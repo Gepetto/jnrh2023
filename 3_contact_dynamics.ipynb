{
 "cells": [
  {
   "cell_type": "markdown",
   "id": "198090d2",
   "metadata": {},
   "source": [
    "# Constrained dynamics\n",
    "This tutorial is a follow-up of the notebook 2. We now write a complete optimal control problem, where both the states and the controls are decided. In a first time, we work with a simple manipulator robot in free space. The dynamics can then be evaluated directly with the ABA algorithm. Then, we move to a humanoid robot with floating actuation and constrained dynamics, and use the corresponding algorithm of Pinocchio for that.\n"
   ]
  },
  {
   "cell_type": "code",
   "execution_count": 1,
   "id": "e501efc1",
   "metadata": {},
   "outputs": [
    {
     "name": "stdout",
     "output_type": "stream",
     "text": [
      "NB: as for all the tutorials, a magic command %do_not_load is introduced to hide the solutions to some questions. Change it for %load if you want to see (and execute) the solution.\n"
     ]
    }
   ],
   "source": [
    "import magic_donotload"
   ]
  },
  {
   "cell_type": "markdown",
   "id": "5ad79b46",
   "metadata": {},
   "source": [
    "## Set up\n",
    "We will use the following tools:\n",
    "- the ur10 model (loaded by example-robot-data)\n",
    "- pinocchio.casadi for writing the problem and computing its derivatives\n",
    "- the IpOpt solver wrapped in casadi\n",
    "- the meshcat viewer\n",
    "- the pinocchio dynamics algorithms, namely ABA and constraintDynamics"
   ]
  },
  {
   "cell_type": "code",
   "execution_count": 2,
   "id": "5975036f",
   "metadata": {},
   "outputs": [],
   "source": [
    "# %load tp3/generated/free_import\n",
    "import time\n",
    "import unittest\n",
    "import numpy as np\n",
    "import pinocchio as pin\n",
    "import casadi\n",
    "from pinocchio import casadi as cpin\n",
    "import example_robot_data as robex\n",
    "\n",
    "from utils.meshcat_viewer_wrapper import MeshcatVisualizer\n"
   ]
  },
  {
   "cell_type": "markdown",
   "id": "5a432f44",
   "metadata": {},
   "source": [
    "The notebook follows the same structure as notebook 2. Let's start with the manipulator robot."
   ]
  },
  {
   "cell_type": "markdown",
   "id": "b93eecf6",
   "metadata": {},
   "source": [
    "## Free dynamics\n",
    "We first write a manipulation problem, without contact. We search for the robot state trajectories $X=[x_0 ... x_T]$, with $x=(q,v)$ and control trajectories $U = [u_0 ... u_{T-1} ]$. \n",
    "We consider yet the robot to be fully actuatated, i.e. $u=\\tau$ are the joint torques. \n",
    "\n",
    "The state evolution must be decided from the acceleration resulting from the actuation. This can be evaluated by the ABA algorithm.\n",
    "$$ \\forall t=0..T-1, a_t = ABA(q_t,v_t,\\tau_t) $$\n",
    "which is most commonly encountered under the matrix form $a_t = M(q_t)^{-1} ( \\tau_t - b(q_t,v_t) )$, with $M$ the generalized mass matrix and $b$ the sum of nonlinear effects (coriolis, centrifugal, gravity).\n",
    "\n",
    "To simplify the writing, we will consider $A = [a_0 ... a_{T-1} ]$ to be part of the decision variables. Strictly speaking, we call this kind of variables a **slack**, as it is introduced for convenience (often for the convenience of the solver, here for the convenience of the syntax). The optimal control problem then writes:\n",
    "\n",
    "Decide:\n",
    "- $X = [ x_0 ... x_T ]$ the state trajectory (with $x = (robot.q0 + dq, v)$)\n",
    "- $A = [a_0 ... a_{T-1} ]$ the accelerations\n",
    "- $U = [u_0 ... u_{T-1} ]$ the controls (joint torques)\n",
    "\n",
    "Minimizing: $\\sum_{t=0}^{T-1} v_t^2  + a_t^2 + e(q_T)^2$\n",
    "\n",
    "Subject to:\n",
    "- $x_0 = (robot.q0, 0)$\n",
    "- $\\forall t=0..T-1$\n",
    "$$ a_t = ABA(q_t,v_t,\\tau_t) $$\n",
    "$$ v_{t+1} = v_t + a_t \\Delta t$$\n",
    "$$ q_{t+1} = q_t \\oplus v_{t+1} \\Delta t$$\n"
   ]
  },
  {
   "cell_type": "markdown",
   "id": "2019725d",
   "metadata": {},
   "source": [
    "### Set up the model\n",
    "We simply copy the code of the previous notebook to load and display the robot.\n",
    "The robot is loaded with example-robot-data, but feel free to load your own."
   ]
  },
  {
   "cell_type": "code",
   "execution_count": 3,
   "id": "7acbc2b3",
   "metadata": {},
   "outputs": [
    {
     "name": "stdout",
     "output_type": "stream",
     "text": [
      "Wrapper tries to connect to server <tcp://127.0.0.1:6000>\n",
      "You can open the visualizer by visiting the following URL:\n",
      "http://127.0.0.1:7000/static/\n"
     ]
    }
   ],
   "source": [
    "# %load tp3/generated/free_ur10\n",
    "robot = robex.load('ur10')\n",
    "# Open the viewer\n",
    "viz = MeshcatVisualizer(robot)\n",
    "viz.display(robot.q0)\n",
    "\n",
    "# The pinocchio model is what we are really interested by.\n",
    "model = robot.model\n",
    "data = model.createData()\n"
   ]
  },
  {
   "cell_type": "markdown",
   "id": "4262f73e",
   "metadata": {},
   "source": [
    "The important frames are the effector and the target."
   ]
  },
  {
   "cell_type": "code",
   "execution_count": 4,
   "id": "cddee321",
   "metadata": {},
   "outputs": [],
   "source": [
    "# %load tp3/generated/free_frames\n",
    "Mtarget = pin.SE3(pin.utils.rotate('y', 3), np.array([-0.5, 0.1, 0.2]))  # x,y,z\n",
    "endEffectorFrameName = 'tool0'\n",
    "q0 = np.array([0, -3.14 / 2, 0, 0, 0, 0])\n"
   ]
  },
  {
   "cell_type": "code",
   "execution_count": 5,
   "id": "17244f0f",
   "metadata": {},
   "outputs": [],
   "source": [
    "# %load tp3/generated/free_framesId\n",
    "endEffector_ID = model.getFrameId(endEffectorFrameName)\n"
   ]
  },
  {
   "cell_type": "markdown",
   "id": "541cc37d",
   "metadata": {},
   "source": [
    "The hyperparameters are defined as follow:"
   ]
  },
  {
   "cell_type": "code",
   "execution_count": 6,
   "id": "fd404504",
   "metadata": {},
   "outputs": [],
   "source": [
    "# %load tp3/generated/free_hyper\n",
    "T = 50\n",
    "DT = .002\n",
    "w_vel = .1\n",
    "w_conf = 5\n"
   ]
  },
  {
   "cell_type": "markdown",
   "id": "d05ec719",
   "metadata": {},
   "source": [
    "Activate the visualization."
   ]
  },
  {
   "cell_type": "code",
   "execution_count": 7,
   "id": "88618178",
   "metadata": {},
   "outputs": [],
   "source": [
    "# %load tp3/generated/free_viz\n",
    "# --- Add box to represent target\n",
    "# Add a vizualization for the target\n",
    "boxID = \"world/box\"\n",
    "viz.addBox(boxID, [.05, .1, .2], [1., .2, .2, .5])\n",
    "# Add a vizualisation for the tip of the arm.\n",
    "tipID = \"world/blue\"\n",
    "viz.addBox(tipID, [.08] * 3, [.2, .2, 1., .5])\n",
    "\n",
    "def displayScene(q,dt=1e-1):\n",
    "    '''\n",
    "    Given the robot configuration, display:\n",
    "    - the robot\n",
    "    - a box representing endEffector_ID\n",
    "    - a box representing Mtarget\n",
    "    '''\n",
    "    pin.framesForwardKinematics(model,data,q)\n",
    "    M = data.oMf[endEffector_ID]\n",
    "    viz.applyConfiguration(boxID, Mtarget)\n",
    "    viz.applyConfiguration(tipID, M)\n",
    "    viz.display(q)\n",
    "    time.sleep(dt)\n",
    "def displayTraj(qs,dt=1e-2):\n",
    "    for q in qs[1:]:\n",
    "        displayScene(q,dt=dt)\n",
    "displayScene(robot.q0)\n"
   ]
  },
  {
   "cell_type": "code",
   "execution_count": 8,
   "id": "9736af21",
   "metadata": {},
   "outputs": [
    {
     "data": {
      "text/html": [
       "\n",
       "            <div style=\"height: 400px; width: 100%; overflow-x: auto; overflow-y: hidden; resize: both\">\n",
       "            <iframe src=\"http://127.0.0.1:7000/static/\" style=\"width: 100%; height: 100%; border: none\"></iframe>\n",
       "            </div>\n",
       "            "
      ],
      "text/plain": [
       "<IPython.core.display.HTML object>"
      ]
     },
     "execution_count": 8,
     "metadata": {},
     "output_type": "execute_result"
    }
   ],
   "source": [
    "viz.viewer.jupyter_cell()"
   ]
  },
  {
   "cell_type": "markdown",
   "id": "e5bf7f38",
   "metadata": {},
   "source": [
    "Build Pinocchio Casadi model and data. This time, we need to compute the graph for the ABA algorithm. ABA takes the robot joint positions, velocities and torques, and returns the robot joint accelerations. An extended version also takes disturbance forces (expressed at every joint), but we will not use it here."
   ]
  },
  {
   "cell_type": "code",
   "execution_count": 9,
   "id": "bc5ec229",
   "metadata": {},
   "outputs": [],
   "source": [
    "# %load tp3/generated/free_helpers\n",
    "# --- Casadi helpers\n",
    "cmodel = cpin.Model(model)\n",
    "cdata = cmodel.createData()\n",
    "\n",
    "nq = model.nq\n",
    "nv = model.nv\n",
    "nx = nq+nv\n",
    "ndx = 2*nv\n",
    "cx = casadi.SX.sym(\"x\",nx,1)\n",
    "cdx = casadi.SX.sym(\"dx\",nv*2,1)\n",
    "cq = cx[:nq]\n",
    "cv = cx[nq:]\n",
    "caq = casadi.SX.sym(\"a\",nv,1)\n",
    "ctauq = casadi.SX.sym(\"tau\",nv,1)\n",
    "\n",
    "# Compute kinematics casadi graphs\n",
    "cpin.aba(cmodel,cdata,cq,cv,ctauq)\n",
    "cpin.forwardKinematics(cmodel,cdata,cq,cv,caq)\n",
    "cpin.updateFramePlacements(cmodel,cdata)\n"
   ]
  },
  {
   "cell_type": "markdown",
   "id": "6e8d1ef0",
   "metadata": {},
   "source": [
    "\n",
    "We cast ABA in a function to skip the SX/MX casadi syntax."
   ]
  },
  {
   "cell_type": "code",
   "execution_count": 10,
   "id": "ead40b17",
   "metadata": {},
   "outputs": [],
   "source": [
    "# %load tp3/generated/free_aba\n",
    "# Sym graph for the aba operation\n",
    "caba = casadi.Function('aba', [cx,ctauq],[ cdata.ddq ])\n"
   ]
  },
  {
   "cell_type": "markdown",
   "id": "7a098c09",
   "metadata": {},
   "source": [
    "Similarly, we introduce a helper for the integration of the acceleration, as in the previous notebook."
   ]
  },
  {
   "cell_type": "code",
   "execution_count": 11,
   "id": "360a80b4",
   "metadata": {},
   "outputs": [],
   "source": [
    "# %load tp3/generated/free_cnext\n",
    "# Sym graph for the integration operation x' = [ q+vDT+aDT**2, v+aDT ]\n",
    "cnext = casadi.Function('next', [cx,caq],\n",
    "                        [ casadi.vertcat( cpin.integrate(cmodel,cx[:nq],cx[nq:]*DT + caq*DT**2),\n",
    "                                          cx[nq:] + caq*DT ) ])\n"
   ]
  },
  {
   "cell_type": "markdown",
   "id": "63f919c3",
   "metadata": {},
   "source": [
    "Finally, we need a helper for the operational target, as before."
   ]
  },
  {
   "cell_type": "code",
   "execution_count": 12,
   "id": "798c9393",
   "metadata": {},
   "outputs": [],
   "source": [
    "# %load tp3/generated/free_error\n",
    "# Sym graph for the operational error\n",
    "error_tool = casadi.Function('etool3', [cx],\n",
    "                             [ cdata.oMf[endEffector_ID].translation - Mtarget.translation ])\n"
   ]
  },
  {
   "cell_type": "markdown",
   "id": "e299a46a",
   "metadata": {},
   "source": [
    "### Write and solve\n",
    "We are now ready to formulate the problem. Follow the step for that.\n",
    "\n",
    "1. Define the variables $X,A,U$."
   ]
  },
  {
   "cell_type": "code",
   "execution_count": 13,
   "id": "f3cb2f4a",
   "metadata": {},
   "outputs": [],
   "source": [
    "# %load tp3/generated/free_ocp1\n",
    "opti = casadi.Opti()\n",
    "var_xs = [ opti.variable(nx) for t in range(T+1) ]\n",
    "var_as = [ opti.variable(nv) for t in range(T) ]\n",
    "var_us = [ opti.variable(nv) for t in range(T) ]\n"
   ]
  },
  {
   "cell_type": "markdown",
   "id": "866aa6fd",
   "metadata": {},
   "source": [
    "2. Compute the cost"
   ]
  },
  {
   "cell_type": "code",
   "execution_count": 14,
   "id": "d22f9bd0",
   "metadata": {},
   "outputs": [],
   "source": [
    "# %load tp3/generated/free_ocp2\n",
    "totalcost = 0\n",
    "# Define the running cost\n",
    "for t in range(T):\n",
    "    totalcost += 1e-3 * DT * casadi.sumsqr( var_xs[t][nq:] )\n",
    "    totalcost += 1e-4 * DT * casadi.sumsqr( var_as[t] )\n",
    "totalcost += 1e4 * casadi.sumsqr( error_tool(var_xs[T]) )\n"
   ]
  },
  {
   "cell_type": "markdown",
   "id": "471e95bd",
   "metadata": {},
   "source": [
    "3. Enforce the initial constraint. You can also add a terminal velocity constraint if you like."
   ]
  },
  {
   "cell_type": "code",
   "execution_count": 15,
   "id": "707bb855",
   "metadata": {},
   "outputs": [],
   "source": [
    "# %load tp3/generated/free_ocp3\n",
    "opti.subject_to(var_xs[0][:nq] == robot.q0)\n",
    "opti.subject_to(var_xs[0][nq:] == 0) # zero initial velocity\n",
    "opti.subject_to(var_xs[T][nq:] == 0) # zero terminal velocity\n"
   ]
  },
  {
   "cell_type": "markdown",
   "id": "5ffc2c70",
   "metadata": {},
   "source": [
    "4. Define the dynamics, by both enforcing that acceleration matches ABA (var_a = ABA(q,v,tau), and that the next state results from the integration of the acceleration."
   ]
  },
  {
   "cell_type": "code",
   "execution_count": 16,
   "id": "d04cd72e",
   "metadata": {},
   "outputs": [],
   "source": [
    "# %load tp3/generated/free_integration\n",
    "for t in range(T):\n",
    "    opti.subject_to( caba(var_xs[t],var_us[t]) == var_as[t] )\n",
    "    opti.subject_to( cnext(var_xs[t],var_as[t]) == var_xs[t+1] )\n"
   ]
  },
  {
   "cell_type": "markdown",
   "id": "c16a2604",
   "metadata": {},
   "source": [
    "5. Solve"
   ]
  },
  {
   "cell_type": "code",
   "execution_count": 17,
   "id": "8fac57e8",
   "metadata": {},
   "outputs": [
    {
     "name": "stdout",
     "output_type": "stream",
     "text": [
      "\n",
      "******************************************************************************\n",
      "This program contains Ipopt, a library for large-scale nonlinear optimization.\n",
      " Ipopt is released as open source code under the Eclipse Public License (EPL).\n",
      "         For more information visit http://projects.coin-or.org/Ipopt\n",
      "******************************************************************************\n",
      "\n",
      "This is Ipopt version 3.11.9, running with linear solver mumps.\n",
      "NOTE: Other linear solvers might be more efficient (see Ipopt documentation).\n",
      "\n",
      "Number of nonzeros in equality constraint Jacobian...:     7818\n",
      "Number of nonzeros in inequality constraint Jacobian.:        0\n",
      "Number of nonzeros in Lagrangian Hessian.............:     6015\n",
      "\n",
      "Total number of variables............................:     1212\n",
      "                     variables with only lower bounds:        0\n",
      "                variables with lower and upper bounds:        0\n",
      "                     variables with only upper bounds:        0\n",
      "Total number of equality constraints.................:      918\n",
      "Total number of inequality constraints...............:        0\n",
      "        inequality constraints with only lower bounds:        0\n",
      "   inequality constraints with lower and upper bounds:        0\n",
      "        inequality constraints with only upper bounds:        0\n",
      "\n",
      "iter    objective    inf_pr   inf_du lg(mu)  ||d||  lg(rg) alpha_du alpha_pr  ls\n",
      "   0  2.8967411e+04 2.93e+01 7.73e-03  -1.0 0.00e+00    -  0.00e+00 0.00e+00   0\n",
      "   1  2.7951552e+04 4.12e+00 2.36e+00  -1.0 1.25e+02  -4.0 1.00e+00 1.00e+00h  1\n",
      "   2  2.1173215e+04 2.88e+02 5.13e+01  -1.0 5.17e+02  -4.5 1.00e+00 1.00e+00f  1\n",
      "   3  1.2885856e+04 2.57e+04 1.59e+03  -1.0 8.52e+03  -5.0 1.00e+00 1.00e+00f  1\n",
      "   4  9.6454133e+03 3.80e+03 3.47e+03  -1.0 1.05e+04  -4.5 1.00e+00 1.00e+00h  1\n",
      "   5  9.1634600e+03 6.41e+02 1.23e+03  -1.0 1.98e+03  -4.1 1.00e+00 1.00e+00h  1\n",
      "   6  7.7654003e+03 2.41e+03 5.46e+01  -1.0 4.45e+02  -4.6 1.00e+00 1.00e+00h  1\n",
      "   7  5.9659444e+03 2.15e+03 1.15e+01  -1.0 4.50e+02  -5.1 1.00e+00 1.00e+00h  1\n",
      "   8  4.3261379e+03 2.13e+03 1.25e+01  -1.0 4.76e+02  -5.5 1.00e+00 1.00e+00h  1\n",
      "   9  2.6342924e+03 4.33e+02 3.25e+00  -1.0 1.23e+03  -6.0 1.00e+00 1.00e+00h  1\n",
      "iter    objective    inf_pr   inf_du lg(mu)  ||d||  lg(rg) alpha_du alpha_pr  ls\n",
      "  10  1.0420948e+03 9.97e+02 5.67e+00  -1.0 1.92e+03  -6.5 1.00e+00 1.00e+00h  1\n",
      "  11  6.8607111e+02 1.81e+03 5.23e+00  -1.0 1.67e+03  -7.0 1.00e+00 1.00e+00h  1\n",
      "  12  5.9679445e+02 1.13e+02 4.54e-01  -1.0 1.61e+03  -7.4 1.00e+00 1.00e+00h  1\n",
      "  13  5.3133586e+02 6.95e+01 9.94e-02  -1.0 1.85e+03  -7.9 1.00e+00 1.00e+00h  1\n",
      "  14  4.4773769e+02 2.34e+02 1.40e-01  -1.0 4.28e+03  -8.4 1.00e+00 1.00e+00h  1\n",
      "  15  3.7312805e+02 6.05e+02 4.23e-01  -1.0 7.84e+03  -8.9 1.00e+00 1.00e+00h  1\n",
      "  16  3.2891464e+02 7.66e+02 1.33e+00  -1.0 9.48e+03  -9.4 1.00e+00 1.00e+00h  1\n",
      "  17  3.1252999e+02 3.64e+02 7.88e-01  -1.0 1.03e+04  -9.8 1.00e+00 1.00e+00h  1\n",
      "  18  3.0566680e+02 9.64e+02 1.11e+00  -1.0 2.55e+04    -  1.00e+00 1.00e+00h  1\n",
      "  19  3.0478487e+02 7.76e+01 1.45e-01  -1.0 2.15e+03    -  1.00e+00 1.00e+00h  1\n",
      "iter    objective    inf_pr   inf_du lg(mu)  ||d||  lg(rg) alpha_du alpha_pr  ls\n",
      "  20  3.0458292e+02 9.11e+01 2.47e-01  -1.0 1.16e+03    -  1.00e+00 1.00e+00h  1\n",
      "  21  3.0454110e+02 5.01e+00 1.49e-02  -1.0 3.95e+02    -  1.00e+00 1.00e+00h  1\n",
      "  22  3.0453945e+02 1.18e+00 3.44e-03  -1.0 1.51e+02    -  1.00e+00 1.00e+00h  1\n",
      "  23  3.0453944e+02 1.57e-03 4.66e-06  -1.0 6.24e+00    -  1.00e+00 1.00e+00h  1\n",
      "  24  3.0453944e+02 5.83e-08 1.72e-10  -3.8 3.42e-02    -  1.00e+00 1.00e+00h  1\n",
      "  25  3.0453944e+02 1.67e-09 1.63e-14  -8.6 3.75e-07    -  1.00e+00 1.00e+00h  1\n",
      "\n",
      "Number of Iterations....: 25\n",
      "\n",
      "                                   (scaled)                 (unscaled)\n",
      "Objective...............:   6.1772581224578884e+00    3.0453944316312607e+02\n",
      "Dual infeasibility......:   1.6320278461989801e-14    8.0459136020431297e-13\n",
      "Constraint violation....:   1.0813892004080117e-09    1.6714807316020597e-09\n",
      "Complementarity.........:   0.0000000000000000e+00    0.0000000000000000e+00\n",
      "Overall NLP error.......:   1.0813892004080117e-09    1.6714807316020597e-09\n",
      "\n",
      "\n",
      "Number of objective function evaluations             = 26\n",
      "Number of objective gradient evaluations             = 26\n",
      "Number of equality constraint evaluations            = 26\n",
      "Number of inequality constraint evaluations          = 0\n",
      "Number of equality constraint Jacobian evaluations   = 26\n",
      "Number of inequality constraint Jacobian evaluations = 0\n",
      "Number of Lagrangian Hessian evaluations             = 25\n",
      "Total CPU secs in IPOPT (w/o function evaluations)   =      0.250\n",
      "Total CPU secs in NLP function evaluations           =      1.452\n",
      "\n",
      "EXIT: Optimal Solution Found.\n",
      "      solver  :   t_proc      (avg)   t_wall      (avg)    n_eval\n",
      "callback_fun  | 102.11ms (  3.93ms)   2.76 s (106.32ms)        26\n",
      "       nlp_f  | 768.00us ( 29.54us) 765.49us ( 29.44us)        26\n",
      "       nlp_g  |  20.23ms (778.12us)  19.82ms (762.35us)        26\n",
      "  nlp_grad_f  |   1.11ms ( 41.22us)   1.11ms ( 41.22us)        27\n",
      "  nlp_hess_l  |   1.20 s ( 48.01ms)   1.20 s ( 48.11ms)        25\n",
      "   nlp_jac_g  | 240.36ms (  8.90ms) 240.12ms (  8.89ms)        27\n",
      "       total  |   1.72 s (  1.72 s)   4.38 s (  4.38 s)         1\n"
     ]
    }
   ],
   "source": [
    "# %load tp3/generated/free_ocp5\n",
    "### SOLVE\n",
    "opti.minimize(totalcost)\n",
    "opti.solver(\"ipopt\") # set numerical backend\n",
    "opti.callback(lambda i: displayScene(opti.debug.value(var_xs[-1][:nq])))\n",
    "\n",
    "# Caution: in case the solver does not converge, we are picking the candidate values\n",
    "# at the last iteration in opti.debug, and they are NO guarantee of what they mean.\n",
    "try:\n",
    "    sol = opti.solve_limited()\n",
    "    sol_xs = [ opti.value(var_x) for var_x in var_xs ]\n",
    "    sol_as = [ opti.value(var_a) for var_a in var_as ]\n",
    "    sol_us = [ opti.value(var_u) for var_u in var_us ]\n",
    "except:\n",
    "    print('ERROR in convergence, plotting debug info.')\n",
    "    sol_xs = [ opti.debug.value(var_x) for var_x in var_xs ]\n",
    "    sol_as = [ opti.debug.value(var_a) for var_a in var_as ]\n",
    "    sol_us = [ opti.debug.value(var_u) for var_u in var_us ]\n"
   ]
  },
  {
   "cell_type": "markdown",
   "id": "290b349f",
   "metadata": {},
   "source": [
    "And finally, display the result."
   ]
  },
  {
   "cell_type": "code",
   "execution_count": 18,
   "id": "f7bbbc86",
   "metadata": {},
   "outputs": [
    {
     "name": "stdout",
     "output_type": "stream",
     "text": [
      "***** Display the resulting trajectory ...\n"
     ]
    }
   ],
   "source": [
    "# %load tp3/generated/free_ocp6\n",
    "print(\"***** Display the resulting trajectory ...\")\n",
    "displayScene(robot.q0,1)\n",
    "displayTraj([ x[:nq] for x in sol_xs],DT)\n"
   ]
  },
  {
   "cell_type": "markdown",
   "id": "a147ea39",
   "metadata": {},
   "source": [
    "## Contact dynamics\n",
    "Next, we now consider a humanoid robot in contact with the ground. We will only enforce here a bilateral contact, i.e. the solver will never \"discover\" that the robot can relax the contact and start walking. "
   ]
  },
  {
   "cell_type": "code",
   "execution_count": 23,
   "id": "5207cdee",
   "metadata": {},
   "outputs": [
    {
     "name": "stdout",
     "output_type": "stream",
     "text": [
      "Wrapper tries to connect to server <tcp://127.0.0.1:6000>\n",
      "You can open the visualizer by visiting the following URL:\n",
      "http://127.0.0.1:7000/static/\n"
     ]
    },
    {
     "name": "stderr",
     "output_type": "stream",
     "text": [
      "/opt/openrobots/lib/python3.8/site-packages/example_robot_data/robots_loader.py:289: UserWarning: Deprecated member. Use Frame.parentJoint instead.\n",
      "  if f.parent < legMaxId:\n"
     ]
    }
   ],
   "source": [
    "# %load tp3/generated/contact_talos\n",
    "robot = robex.load('talos_legs')\n",
    "# Open the viewer\n",
    "viz = MeshcatVisualizer(robot)\n",
    "viz.display(robot.q0)\n",
    "\n",
    "# The pinocchio model is what we are really interested by.\n",
    "model = robot.model\n",
    "data = model.createData()\n"
   ]
  },
  {
   "cell_type": "code",
   "execution_count": 25,
   "id": "769b74e0",
   "metadata": {},
   "outputs": [],
   "source": [
    "from types import SimpleNamespace"
   ]
  },
  {
   "cell_type": "code",
   "execution_count": 26,
   "id": "604aac34",
   "metadata": {},
   "outputs": [],
   "source": [
    "# %load tp3/generated/contact_frames\n",
    "Mtarget = pin.SE3(pin.utils.rotate('y', 3), np.array([-0.1, 0.2, 0.45094]))  # x,y,z\n",
    "contacts = [ SimpleNamespace(name='left_sole_link', type=pin.ContactType.CONTACT_6D) ]\n",
    "endEffectorFrameName = 'right_sole_link'\n"
   ]
  },
  {
   "cell_type": "markdown",
   "id": "796c6c99",
   "metadata": {},
   "source": [
    "### Using the constraint dynamics solver\n",
    "Our model now is in contact with the ground. A first solution is to extend the previous notebook: consider an explicit motion constraint on the acceleration, and as above, introduce the joint torques as a decision variable. Then we also have to decide the contact forces. This works, yet it implies many more variables; it is not easy to generalize, as new contacts would imply to change the structure of the trajectory optimization problem; and the efficiency of the trajectory solver to handle the dynamics is not ideal. \n",
    "\n",
    "Instead, we will change the dynamics to directly account for the contact constraint at that level. Then, the contact forces and the contact motion constraint are implicit for the trajectory solver, and the forces become a function of the torque rather than an explicit variable. \n",
    "\n",
    "For that, we will use the pin.constraintDynamics function of Pinocchio. This method is described in details in the paper of [Justin Carpentier (2021)](https://inria.hal.science/hal-03271811/file/rss-proximal-and-sparse.pdf). From a syntax point of view, it works nearly as ABA: you just need to specify the contact models.\n",
    "\n",
    "Justin Carpentier et al (2021). Proximal and sparse resolution of constrained dynamic equations. In Robotics: Science and Systems.\n",
    "\n"
   ]
  },
  {
   "cell_type": "code",
   "execution_count": 31,
   "id": "61c26d6e",
   "metadata": {},
   "outputs": [],
   "source": [
    "# %load tp3/generated/contact_framesId\n",
    "endEffector_ID = model.getFrameId(endEffectorFrameName)\n",
    "for c in contacts:\n",
    "    c.id = model.getFrameId(c.name)\n",
    "    assert(c.id<len(model.frames))\n",
    "    c.jid = model.frames[c.id].parentJoint\n",
    "    c.placement = model.frames[c.id].placement\n",
    "    c.model = pin.RigidConstraintModel(c.type,model,c.jid,c.placement)\n",
    "contact_models = [ c.model for c in contacts ] \n"
   ]
  },
  {
   "cell_type": "markdown",
   "id": "cae852c6",
   "metadata": {},
   "source": [
    "Here, the pin.RigidConstraintModel is used to store the contact type (3D or 6D implemented for now), the joint ID, and the placement of the contact location on the joint. Additionally, you can specify the location of the contact in the world if you want to use a Baumgart position corrector (we will not)."
   ]
  },
  {
   "cell_type": "code",
   "execution_count": 38,
   "id": "954b049f",
   "metadata": {},
   "outputs": [],
   "source": [
    "# %load tp3/generated/contact_contact_solver\n",
    "# Baumgart correction\n",
    "Kv = 20; Kp = 0\n",
    "# Tuning of the proximal solver (minimal version)\n",
    "prox_settings = pin.ProximalSettings(0,1e-6,1)\n"
   ]
  },
  {
   "cell_type": "code",
   "execution_count": 40,
   "id": "6b9f90fe",
   "metadata": {},
   "outputs": [],
   "source": [
    "# %load tp3/generated/contact_contact_setting\n",
    "contact_datas = [ c.createData() for c in contact_models ]\n",
    "for c in contact_models:\n",
    "    c.corrector.Kd=Kv\n",
    "    c.corrector.Kp=Kp\n"
   ]
  },
  {
   "cell_type": "markdown",
   "id": "bc218245",
   "metadata": {},
   "source": [
    "The constraint solver is a proximal solver (see the algorithm explained by Justin Carpentier 2021), which we will use minimally here as defined by the proximal settings (using"
   ]
  }
 ],
 "metadata": {
  "kernelspec": {
   "display_name": "Python 3 (ipykernel)",
   "language": "python",
   "name": "python3"
  },
  "language_info": {
   "codemirror_mode": {
    "name": "ipython",
    "version": 3
   },
   "file_extension": ".py",
   "mimetype": "text/x-python",
   "name": "python",
   "nbconvert_exporter": "python",
   "pygments_lexer": "ipython3",
   "version": "3.8.10"
  }
 },
 "nbformat": 4,
 "nbformat_minor": 5
}