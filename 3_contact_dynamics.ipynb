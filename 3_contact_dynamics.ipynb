{
 "cells": [
  {
   "cell_type": "markdown",
   "id": "198090d2",
   "metadata": {},
   "source": [
    "# Constrained dynamics\n",
    "This tutorial is a follow-up of the notebook 2. We now write a complete optimal control problem, where both the states and the controls are decided. In a first time, we work with a simple manipulator robot in free space. The dynamics can then be evaluated directly with the ABA algorithm. Then, we move to a humanoid robot with floating actuation and constrained dynamics, and use the corresponding algorithm of Pinocchio for that.\n"
   ]
  },
  {
   "cell_type": "code",
   "execution_count": 1,
   "id": "e501efc1",
   "metadata": {},
   "outputs": [
    {
     "name": "stdout",
     "output_type": "stream",
     "text": [
      "NB: as for all the tutorials, a magic command %do_not_load is introduced to hide the solutions to some questions. Change it for %load if you want to see (and execute) the solution.\n"
     ]
    }
   ],
   "source": []
  },
  {
   "cell_type": "markdown",
   "id": "5ad79b46",
   "metadata": {},
   "source": [
    "## Set up\n",
    "We will use the following tools:\n",
    "- the ur10 model (loaded by example-robot-data)\n",
    "- pinocchio.casadi for writing the problem and computing its derivatives\n",
    "- the IpOpt solver wrapped in casadi\n",
    "- the meshcat viewer\n",
    "- the pinocchio dynamics algorithms, namely ABA and constraintDynamics"
   ]
  },
  {
   "cell_type": "code",
   "execution_count": 2,
   "id": "5975036f",
   "metadata": {},
   "outputs": [],
   "source": [
    "# %load tp3/generated/free_import\n",
    "import time\n",
    "import numpy as np\n",
    "import pinocchio as pin\n",
    "import casadi\n",
    "from pinocchio import casadi as cpin\n",
    "import example_robot_data as robex\n",
    "\n",
    "from utils.meshcat_viewer_wrapper import MeshcatVisualizer"
   ]
  },
  {
   "cell_type": "markdown",
   "id": "5a432f44",
   "metadata": {},
   "source": [
    "The notebook follows the same structure as notebook 2. Let's start with the manipulator robot."
   ]
  },
  {
   "cell_type": "markdown",
   "id": "b93eecf6",
   "metadata": {},
   "source": [
    "## Free dynamics\n",
    "We first write a manipulation problem, without contact. We search for the robot state trajectories $X=[x_0 ... x_T]$, with $x=(q,v)$ and control trajectories $U = [u_0 ... u_{T-1} ]$. \n",
    "We consider yet the robot to be fully actuatated, i.e. $u=\\tau$ are the joint torques. \n",
    "\n",
    "The state evolution must be decided from the acceleration resulting from the actuation. This can be evaluated by the ABA algorithm.\n",
    "$$ \\forall t=0..T-1, a_t = ABA(q_t,v_t,\\tau_t) $$\n",
    "which is most commonly encountered under the matrix form $a_t = M(q_t)^{-1} ( \\tau_t - b(q_t,v_t) )$, with $M$ the generalized mass matrix and $b$ the sum of nonlinear effects (coriolis, centrifugal, gravity).\n",
    "\n",
    "To simplify the writing, we will consider $A = [a_0 ... a_{T-1} ]$ to be part of the decision variables. Strictly speaking, we call this kind of variables a **slack**, as it is introduced for convenience (often for the convenience of the solver, here for the convenience of the syntax). The optimal control problem then writes:\n",
    "\n",
    "Decide:\n",
    "- $X = [ x_0 ... x_T ]$ the state trajectory (with $x = (robot.q0 + dq, v)$)\n",
    "- $A = [a_0 ... a_{T-1} ]$ the accelerations\n",
    "- $U = [u_0 ... u_{T-1} ]$ the controls (joint torques)\n",
    "\n",
    "Minimizing: $\\sum_{t=0}^{T-1} v_t^2  + a_t^2 + e(q_T)^2$\n",
    "\n",
    "Subject to:\n",
    "- $x_0 = (robot.q0, 0)$\n",
    "- $\\forall t=0..T-1$\n",
    "$$ a_t = ABA(q_t,v_t,\\tau_t) $$\n",
    "$$ v_{t+1} = v_t + a_t \\Delta t$$\n",
    "$$ q_{t+1} = q_t \\oplus v_{t+1} \\Delta t$$\n"
   ]
  },
  {
   "cell_type": "markdown",
   "id": "2019725d",
   "metadata": {},
   "source": [
    "### Set up the model\n",
    "We simply copy the code of the previous notebook to load and display the robot.\n",
    "The robot is loaded with example-robot-data, but feel free to load your own."
   ]
  },
  {
   "cell_type": "code",
   "execution_count": 3,
   "id": "7acbc2b3",
   "metadata": {},
   "outputs": [
    {
     "name": "stdout",
     "output_type": "stream",
     "text": [
      "Wrapper tries to connect to server <tcp://127.0.0.1:6000>\n",
      "You can open the visualizer by visiting the following URL:\n",
      "http://127.0.0.1:7000/static/\n"
     ]
    }
   ],
   "source": [
    "# %load tp3/generated/free_ur10\n",
    "robot = robex.load(\"ur10\")\n",
    "# Open the viewer\n",
    "viz = MeshcatVisualizer(robot)\n",
    "viz.display(robot.q0)\n",
    "\n",
    "# The pinocchio model is what we are really interested by.\n",
    "model = robot.model\n",
    "data = model.createData()"
   ]
  },
  {
   "cell_type": "markdown",
   "id": "4262f73e",
   "metadata": {},
   "source": [
    "The important frames are the effector and the target."
   ]
  },
  {
   "cell_type": "code",
   "execution_count": 4,
   "id": "cddee321",
   "metadata": {},
   "outputs": [],
   "source": [
    "# %load tp3/generated/free_frames\n",
    "Mtarget = pin.SE3(pin.utils.rotate(\"y\", 3), np.array([-0.5, 0.1, 0.2]))  # x,y,z\n",
    "endEffectorFrameName = \"tool0\"\n",
    "q0 = np.array([0, -3.14 / 2, 0, 0, 0, 0])"
   ]
  },
  {
   "cell_type": "code",
   "execution_count": 5,
   "id": "17244f0f",
   "metadata": {},
   "outputs": [],
   "source": [
    "# %load tp3/generated/free_framesId\n",
    "endEffector_ID = model.getFrameId(endEffectorFrameName)"
   ]
  },
  {
   "cell_type": "markdown",
   "id": "541cc37d",
   "metadata": {},
   "source": [
    "The hyperparameters are defined as follow:"
   ]
  },
  {
   "cell_type": "code",
   "execution_count": 6,
   "id": "fd404504",
   "metadata": {},
   "outputs": [],
   "source": [
    "# %load tp3/generated/free_hyper\n",
    "T = 50\n",
    "DT = 0.002\n",
    "w_vel = 0.1\n",
    "w_conf = 5"
   ]
  },
  {
   "cell_type": "markdown",
   "id": "d05ec719",
   "metadata": {},
   "source": [
    "Activate the visualization."
   ]
  },
  {
   "cell_type": "code",
   "execution_count": 7,
   "id": "88618178",
   "metadata": {},
   "outputs": [],
   "source": [
    "# %load tp3/generated/free_viz\n",
    "# --- Add box to represent target\n",
    "# Add a vizualization for the target\n",
    "boxID = \"world/box\"\n",
    "viz.addBox(boxID, [0.05, 0.1, 0.2], [1.0, 0.2, 0.2, 0.5])\n",
    "# Add a vizualisation for the tip of the arm.\n",
    "tipID = \"world/blue\"\n",
    "viz.addBox(tipID, [0.08] * 3, [0.2, 0.2, 1.0, 0.5])\n",
    "\n",
    "\n",
    "def displayScene(q, dt=1e-1):\n",
    "    \"\"\"\n",
    "    Given the robot configuration, display:\n",
    "    - the robot\n",
    "    - a box representing endEffector_ID\n",
    "    - a box representing Mtarget\n",
    "    \"\"\"\n",
    "    pin.framesForwardKinematics(model, data, q)\n",
    "    M = data.oMf[endEffector_ID]\n",
    "    viz.applyConfiguration(boxID, Mtarget)\n",
    "    viz.applyConfiguration(tipID, M)\n",
    "    viz.display(q)\n",
    "    time.sleep(dt)\n",
    "\n",
    "\n",
    "def displayTraj(qs, dt=1e-2):\n",
    "    for q in qs[1:]:\n",
    "        displayScene(q, dt=dt)\n",
    "\n",
    "\n",
    "displayScene(robot.q0)"
   ]
  },
  {
   "cell_type": "code",
   "execution_count": 8,
   "id": "9736af21",
   "metadata": {},
   "outputs": [
    {
     "data": {
      "text/html": [
       "\n",
       "            <div style=\"height: 400px; width: 100%; overflow-x: auto; overflow-y: hidden; resize: both\">\n",
       "            <iframe src=\"http://127.0.0.1:7000/static/\" style=\"width: 100%; height: 100%; border: none\"></iframe>\n",
       "            </div>\n",
       "            "
      ],
      "text/plain": [
       "<IPython.core.display.HTML object>"
      ]
     },
     "execution_count": 8,
     "metadata": {},
     "output_type": "execute_result"
    }
   ],
   "source": [
    "viz.viewer.jupyter_cell()"
   ]
  },
  {
   "cell_type": "markdown",
   "id": "e5bf7f38",
   "metadata": {},
   "source": [
    "Build Pinocchio Casadi model and data. This time, we need to compute the graph for the ABA algorithm. ABA takes the robot joint positions, velocities and torques, and returns the robot joint accelerations. An extended version also takes disturbance forces (expressed at every joint), but we will not use it here."
   ]
  },
  {
   "cell_type": "code",
   "execution_count": 9,
   "id": "bc5ec229",
   "metadata": {},
   "outputs": [],
   "source": [
    "# %load tp3/generated/free_helpers\n",
    "# --- Casadi helpers\n",
    "cmodel = cpin.Model(model)\n",
    "cdata = cmodel.createData()\n",
    "\n",
    "nq = model.nq\n",
    "nv = model.nv\n",
    "nx = nq + nv\n",
    "ndx = 2 * nv\n",
    "cx = casadi.SX.sym(\"x\", nx, 1)\n",
    "cdx = casadi.SX.sym(\"dx\", nv * 2, 1)\n",
    "cq = cx[:nq]\n",
    "cv = cx[nq:]\n",
    "caq = casadi.SX.sym(\"a\", nv, 1)\n",
    "ctauq = casadi.SX.sym(\"tau\", nv, 1)\n",
    "\n",
    "# Compute kinematics casadi graphs\n",
    "cpin.aba(cmodel, cdata, cq, cv, ctauq)\n",
    "cpin.forwardKinematics(cmodel, cdata, cq, cv, caq)\n",
    "cpin.updateFramePlacements(cmodel, cdata)"
   ]
  },
  {
   "cell_type": "markdown",
   "id": "6e8d1ef0",
   "metadata": {},
   "source": [
    "\n",
    "We cast ABA in a function to skip the SX/MX casadi syntax."
   ]
  },
  {
   "cell_type": "code",
   "execution_count": 10,
   "id": "ead40b17",
   "metadata": {},
   "outputs": [],
   "source": [
    "# %load tp3/generated/free_aba\n",
    "# Sym graph for the aba operation\n",
    "caba = casadi.Function(\"aba\", [cx, ctauq], [cdata.ddq])"
   ]
  },
  {
   "cell_type": "markdown",
   "id": "7a098c09",
   "metadata": {},
   "source": [
    "Similarly, we introduce a helper for the integration of the acceleration, as in the previous notebook."
   ]
  },
  {
   "cell_type": "code",
   "execution_count": 11,
   "id": "360a80b4",
   "metadata": {},
   "outputs": [],
   "source": [
    "# %load tp3/generated/free_cnext\n",
    "# Sym graph for the integration operation x' = [ q+vDT+aDT**2, v+aDT ]\n",
    "cnext = casadi.Function(\n",
    "    \"next\",\n",
    "    [cx, caq],\n",
    "    [\n",
    "        casadi.vertcat(\n",
    "            cpin.integrate(cmodel, cx[:nq], cx[nq:] * DT + caq * DT**2),\n",
    "            cx[nq:] + caq * DT,\n",
    "        )\n",
    "    ],\n",
    ")"
   ]
  },
  {
   "cell_type": "markdown",
   "id": "63f919c3",
   "metadata": {},
   "source": [
    "Finally, we need a helper for the operational target, as before."
   ]
  },
  {
   "cell_type": "code",
   "execution_count": 12,
   "id": "798c9393",
   "metadata": {},
   "outputs": [],
   "source": [
    "# %load tp3/generated/free_error\n",
    "# Sym graph for the operational error\n",
    "error_tool = casadi.Function(\n",
    "    \"etool3\", [cx], [cdata.oMf[endEffector_ID].translation - Mtarget.translation]\n",
    ")"
   ]
  },
  {
   "cell_type": "markdown",
   "id": "e299a46a",
   "metadata": {},
   "source": [
    "### Write and solve\n",
    "We are now ready to formulate the problem. Follow the step for that.\n",
    "\n",
    "1. Define the variables $X,A,U$."
   ]
  },
  {
   "cell_type": "code",
   "execution_count": 13,
   "id": "f3cb2f4a",
   "metadata": {},
   "outputs": [],
   "source": [
    "%do_not_load tp3/generated/free_ocp1"
   ]
  },
  {
   "cell_type": "markdown",
   "id": "866aa6fd",
   "metadata": {},
   "source": [
    "2. Compute the cost"
   ]
  },
  {
   "cell_type": "code",
   "execution_count": 14,
   "id": "d22f9bd0",
   "metadata": {},
   "outputs": [],
   "source": [
    "%do_not_load tp3/generated/free_ocp2"
   ]
  },
  {
   "cell_type": "markdown",
   "id": "471e95bd",
   "metadata": {},
   "source": [
    "3. Enforce the initial constraint. You can also add a terminal velocity constraint if you like."
   ]
  },
  {
   "cell_type": "code",
   "execution_count": 15,
   "id": "707bb855",
   "metadata": {},
   "outputs": [],
   "source": [
    "%do_not_load tp3/generated/free_ocp3"
   ]
  },
  {
   "cell_type": "markdown",
   "id": "5ffc2c70",
   "metadata": {},
   "source": [
    "4. Define the dynamics, by both enforcing that acceleration matches ABA (var_a = ABA(q,v,tau), and that the next state results from the integration of the acceleration."
   ]
  },
  {
   "cell_type": "code",
   "execution_count": 16,
   "id": "d04cd72e",
   "metadata": {},
   "outputs": [],
   "source": [
    "%do_not_load tp3/generated/free_integration"
   ]
  },
  {
   "cell_type": "markdown",
   "id": "c16a2604",
   "metadata": {},
   "source": [
    "5. Solve"
   ]
  },
  {
   "cell_type": "code",
   "execution_count": 17,
   "id": "8fac57e8",
   "metadata": {},
   "outputs": [
    {
     "ename": "NameError",
     "evalue": "name 'opti' is not defined",
     "output_type": "error",
     "traceback": [
      "\u001b[0;31m---------------------------------------------------------------------------\u001b[0m",
      "\u001b[0;31mNameError\u001b[0m                                 Traceback (most recent call last)",
      "Cell \u001b[0;32mIn[17], line 3\u001b[0m\n\u001b[1;32m      1\u001b[0m \u001b[38;5;66;03m# %load tp3/generated/free_ocp5\u001b[39;00m\n\u001b[1;32m      2\u001b[0m \u001b[38;5;66;03m### SOLVE\u001b[39;00m\n\u001b[0;32m----> 3\u001b[0m \u001b[43mopti\u001b[49m\u001b[38;5;241m.\u001b[39mminimize(totalcost)\n\u001b[1;32m      4\u001b[0m opti\u001b[38;5;241m.\u001b[39msolver(\u001b[38;5;124m\"\u001b[39m\u001b[38;5;124mipopt\u001b[39m\u001b[38;5;124m\"\u001b[39m) \u001b[38;5;66;03m# set numerical backend\u001b[39;00m\n\u001b[1;32m      5\u001b[0m opti\u001b[38;5;241m.\u001b[39mcallback(\u001b[38;5;28;01mlambda\u001b[39;00m i: displayScene(opti\u001b[38;5;241m.\u001b[39mdebug\u001b[38;5;241m.\u001b[39mvalue(var_xs[\u001b[38;5;241m-\u001b[39m\u001b[38;5;241m1\u001b[39m][:nq])))\n",
      "\u001b[0;31mNameError\u001b[0m: name 'opti' is not defined"
     ]
    }
   ],
   "source": [
    "# %load tp3/generated/free_ocp5\n",
    "### SOLVE\n",
    "opti.minimize(totalcost)\n",
    "opti.solver(\"ipopt\")  # set numerical backend\n",
    "opti.callback(lambda i: displayScene(opti.debug.value(var_xs[-1][:nq])))\n",
    "\n",
    "# Caution: in case the solver does not converge, we are picking the candidate values\n",
    "# at the last iteration in opti.debug, and they are NO guarantee of what they mean.\n",
    "try:\n",
    "    sol = opti.solve_limited()\n",
    "    sol_xs = [opti.value(var_x) for var_x in var_xs]\n",
    "    sol_as = [opti.value(var_a) for var_a in var_as]\n",
    "    sol_us = [opti.value(var_u) for var_u in var_us]\n",
    "except:\n",
    "    print(\"ERROR in convergence, plotting debug info.\")\n",
    "    sol_xs = [opti.debug.value(var_x) for var_x in var_xs]\n",
    "    sol_as = [opti.debug.value(var_a) for var_a in var_as]\n",
    "    sol_us = [opti.debug.value(var_u) for var_u in var_us]"
   ]
  },
  {
   "cell_type": "markdown",
   "id": "290b349f",
   "metadata": {},
   "source": [
    "And finally, display the result."
   ]
  },
  {
   "cell_type": "code",
   "execution_count": null,
   "id": "f7bbbc86",
   "metadata": {},
   "outputs": [],
   "source": [
    "# %load tp3/generated/free_ocp6\n",
    "print(\"***** Display the resulting trajectory ...\")\n",
    "displayScene(robot.q0, 1)\n",
    "displayTraj([x[:nq] for x in sol_xs], DT)"
   ]
  },
  {
   "cell_type": "markdown",
   "id": "a147ea39",
   "metadata": {},
   "source": [
    "## Contact dynamics\n",
    "Next, we now consider a humanoid robot in contact with the ground. We will only enforce here a bilateral contact, i.e. the solver will never \"discover\" that the robot can relax the contact and start walking. "
   ]
  },
  {
   "cell_type": "code",
   "execution_count": null,
   "id": "5207cdee",
   "metadata": {},
   "outputs": [],
   "source": [
    "# %load tp3/generated/contact_talos\n",
    "robot = robex.load(\"talos_legs\")\n",
    "# Open the viewer\n",
    "viz = MeshcatVisualizer(robot)\n",
    "viz.display(robot.q0)\n",
    "\n",
    "# The pinocchio model is what we are really interested by.\n",
    "model = robot.model\n",
    "data = model.createData()"
   ]
  },
  {
   "cell_type": "code",
   "execution_count": null,
   "id": "769b74e0",
   "metadata": {},
   "outputs": [],
   "source": [
    "from types import SimpleNamespace"
   ]
  },
  {
   "cell_type": "code",
   "execution_count": null,
   "id": "604aac34",
   "metadata": {},
   "outputs": [],
   "source": [
    "# %load tp3/generated/contact_frames\n",
    "Mtarget = pin.SE3(pin.utils.rotate(\"y\", 3), np.array([-0.1, 0.2, 0.45094]))  # x,y,z\n",
    "contacts = [SimpleNamespace(name=\"left_sole_link\", type=pin.ContactType.CONTACT_6D)]\n",
    "endEffectorFrameName = \"right_sole_link\""
   ]
  },
  {
   "cell_type": "markdown",
   "id": "796c6c99",
   "metadata": {},
   "source": [
    "### Using the constraint dynamics solver\n",
    "Our model now is in contact with the ground. A first solution is to extend the previous notebook: consider an explicit motion constraint on the acceleration, and as above, introduce the joint torques as a decision variable. Then we also have to decide the contact forces. This works, yet it implies many more variables; it is not easy to generalize, as new contacts would imply to change the structure of the trajectory optimization problem; and the efficiency of the trajectory solver to handle the dynamics is not ideal. \n",
    "\n",
    "Instead, we will change the dynamics to directly account for the contact constraint at that level. Then, the contact forces and the contact motion constraint are implicit for the trajectory solver, and the forces become a function of the torque rather than an explicit variable. \n",
    "\n",
    "For that, we will use the pin.constraintDynamics function of Pinocchio. This method is described in details in the paper of [Justin Carpentier (2021)](https://inria.hal.science/hal-03271811/file/rss-proximal-and-sparse.pdf). From a syntax point of view, it works nearly as ABA: you just need to specify the contact models.\n",
    "\n",
    "Justin Carpentier et al (2021). Proximal and sparse resolution of constrained dynamic equations. In Robotics: Science and Systems.\n",
    "\n"
   ]
  },
  {
   "cell_type": "code",
   "execution_count": null,
   "id": "61c26d6e",
   "metadata": {},
   "outputs": [],
   "source": [
    "# %load tp3/generated/contact_framesId\n",
    "endEffector_ID = model.getFrameId(endEffectorFrameName)\n",
    "for c in contacts:\n",
    "    c.id = model.getFrameId(c.name)\n",
    "    assert c.id < len(model.frames)\n",
    "    c.jid = model.frames[c.id].parentJoint\n",
    "    c.placement = model.frames[c.id].placement\n",
    "    c.model = pin.RigidConstraintModel(c.type, model, c.jid, c.placement)\n",
    "contact_models = [c.model for c in contacts]"
   ]
  },
  {
   "cell_type": "markdown",
   "id": "cae852c6",
   "metadata": {},
   "source": [
    "Here, the pin.RigidConstraintModel is used to store the contact type (3D or 6D implemented for now), the joint ID, and the placement of the contact location on the joint. Additionally, you can specify the location of the contact in the world if you want to use a Baumgart position corrector (we will not)."
   ]
  },
  {
   "cell_type": "code",
   "execution_count": null,
   "id": "954b049f",
   "metadata": {},
   "outputs": [],
   "source": [
    "# %load tp3/generated/contact_contact_solver\n",
    "# Baumgart correction\n",
    "Kv = 20\n",
    "Kp = 0\n",
    "# Tuning of the proximal solver (minimal version)\n",
    "prox_settings = pin.ProximalSettings(0, 1e-6, 1)"
   ]
  },
  {
   "cell_type": "code",
   "execution_count": null,
   "id": "6b9f90fe",
   "metadata": {},
   "outputs": [],
   "source": [
    "# %load tp3/generated/contact_contact_setting\n",
    "contact_datas = [c.createData() for c in contact_models]\n",
    "for c in contact_models:\n",
    "    c.corrector.Kd = Kv\n",
    "    c.corrector.Kp = Kp"
   ]
  },
  {
   "cell_type": "markdown",
   "id": "bc218245",
   "metadata": {},
   "source": [
    "The constraint solver is a proximal solver (see the algorithm explained by Justin Carpentier 2021), which we will use minimally here as defined by the proximal settings (using a single iteration). You can call it like this:"
   ]
  },
  {
   "cell_type": "code",
   "execution_count": null,
   "id": "dfbaa23d",
   "metadata": {},
   "outputs": [],
   "source": [
    "pin.initConstraintDynamics(model, data, contact_models)\n",
    "q = robot.q0.copy()\n",
    "v = np.zeros(model.nv)\n",
    "tau = np.zeros(model.nv)\n",
    "pin.constraintDynamics(model, data, q, v, tau, contact_models, contact_datas)"
   ]
  },
  {
   "cell_type": "markdown",
   "id": "7eadba8b",
   "metadata": {},
   "source": [
    "### Formulation of the problem\n",
    "\n",
    "The problem is then very similar to the previous one. We simply need to take care to the constraint dynamics with the appropriate algorithm. The contact forces are then a hiden quantity inside the dynamics. We also need to take care to the underactuation which states that their are no direct actuation of the basis. This can be enforced by setting the torques as:\n",
    "$$\\tau = [0_6, u]$$\n",
    "\n",
    "The problem can then be written as follow.\n",
    "\n",
    "Decide:\n",
    "- $X = [ x_0 ... x_T ]$ the state trajectory (with $x = (robot.q0 + dq, v)$)\n",
    "- $A = [a_0 ... a_{T-1} ]$ the accelerations\n",
    "- $U = [u_0 ... u_{T-1} ]$ the controls (actuated joint torques)\n",
    "\n",
    "Minimizing: $\\sum_{t=0}^{T-1} v_t^2  + a_t^2 + e(q_T)^2$\n",
    "\n",
    "Subject to:\n",
    "- $x_0 = (robot.q0, 0)$\n",
    "- $\\forall t=0..T-1$\n",
    "$$ \\tau = [0_6,u_t]$$\n",
    "$$ a_t = ABA(q_t,v_t,\\tau_t) $$\n",
    "$$ v_{t+1} = v_t + a_t \\Delta t$$\n",
    "$$ q_{t+1} = q_t \\oplus v_{t+1} \\Delta t$$\n",
    "\n",
    "As previously, we need to define some helpers to get around the SX/MX syntax."
   ]
  },
  {
   "cell_type": "code",
   "execution_count": null,
   "id": "003299e7",
   "metadata": {},
   "outputs": [],
   "source": [
    "# %load tp3/generated/contact_helpers\n",
    "# --- Casadi helpers\n",
    "cmodel = cpin.Model(model)\n",
    "cdata = cmodel.createData()\n",
    "ccontact_models = [cpin.RigidConstraintModel(c) for c in contact_models]\n",
    "ccontact_datas = [c.createData() for c in ccontact_models]\n",
    "cprox_settings = cpin.ProximalSettings(\n",
    "    prox_settings.absolute_accuracy, prox_settings.mu, prox_settings.max_iter\n",
    ")\n",
    "cpin.initConstraintDynamics(cmodel, cdata, ccontact_models)\n",
    "\n",
    "nq = model.nq\n",
    "nv = model.nv\n",
    "nx = nq + nv\n",
    "ndx = 2 * nv\n",
    "cx = casadi.SX.sym(\"x\", nx, 1)\n",
    "cdx = casadi.SX.sym(\"dx\", nv * 2, 1)\n",
    "cq = cx[:nq]\n",
    "cv = cx[nq:]\n",
    "caq = casadi.SX.sym(\"a\", nv, 1)\n",
    "ctauq = casadi.SX.sym(\"tau\", nv, 1)\n",
    "\n",
    "# Compute kinematics casadi graphs\n",
    "cpin.constraintDynamics(cmodel, cdata, cq, cv, ctauq, ccontact_models, ccontact_datas)\n",
    "cpin.forwardKinematics(cmodel, cdata, cq, cv, caq)\n",
    "cpin.updateFramePlacements(cmodel, cdata)"
   ]
  },
  {
   "cell_type": "markdown",
   "id": "1e3fcb5a",
   "metadata": {},
   "source": [
    "Here the dynamics is evaluated using the constraint algorithm.\n",
    "As the robot has a free floating basis, we will use the integration on the state space $\\mathcal{X}$ to take care of the Lie group structure."
   ]
  },
  {
   "cell_type": "code",
   "execution_count": null,
   "id": "f790fecd",
   "metadata": {},
   "outputs": [],
   "source": [
    "# %load tp3/generated/contact_integrate\n",
    "# Sym graph for the integration operation x,dx -> x(+)dx = [model.integrate(q,dq),v+dv]\n",
    "cintegrate = casadi.Function(\n",
    "    \"integrate\",\n",
    "    [cx, cdx],\n",
    "    [casadi.vertcat(cpin.integrate(cmodel, cx[:nq], cdx[:nv]), cx[nq:] + cdx[nv:])],\n",
    ")"
   ]
  },
  {
   "cell_type": "markdown",
   "id": "d76b6f50",
   "metadata": {},
   "source": [
    "The Euler integration is defined as previously."
   ]
  },
  {
   "cell_type": "code",
   "execution_count": null,
   "id": "71cf82d4",
   "metadata": {},
   "outputs": [],
   "source": [
    "# %load tp3/generated/contact_cnext\n",
    "# Sym graph for the integration operation x' = [ q+vDT+aDT**2, v+aDT ]\n",
    "cnext = casadi.Function(\n",
    "    \"next\",\n",
    "    [cx, caq],\n",
    "    [\n",
    "        casadi.vertcat(\n",
    "            cpin.integrate(cmodel, cx[:nq], cx[nq:] * DT + caq * DT**2),\n",
    "            cx[nq:] + caq * DT,\n",
    "        )\n",
    "    ],\n",
    ")"
   ]
  },
  {
   "cell_type": "markdown",
   "id": "dd13a8ce",
   "metadata": {},
   "source": [
    "The acceleration resulting from the forward dynamics will be used to enforce the slack variable $A$."
   ]
  },
  {
   "cell_type": "code",
   "execution_count": null,
   "id": "615b5803",
   "metadata": {},
   "outputs": [],
   "source": [
    "# %load tp3/generated/contact_aba\n",
    "# Sym graph for the aba operation\n",
    "caba = casadi.Function(\"fdyn\", [cx, ctauq], [cdata.ddq])"
   ]
  },
  {
   "cell_type": "markdown",
   "id": "2eae8c8b",
   "metadata": {},
   "source": [
    "Finally, the operational target is defined by:"
   ]
  },
  {
   "cell_type": "code",
   "execution_count": null,
   "id": "0ba6ea28",
   "metadata": {},
   "outputs": [],
   "source": [
    "# %load tp3/generated/contact_error\n",
    "# Sym graph for the operational error\n",
    "error_tool = casadi.Function(\n",
    "    \"etool3\", [cx], [cdata.oMf[endEffector_ID].translation - Mtarget.translation]\n",
    ")"
   ]
  },
  {
   "cell_type": "markdown",
   "id": "f0f90d34",
   "metadata": {},
   "source": [
    "### Implementation of the OCP\n",
    "\n",
    "You can now implement the problem. Follow the steps.\n",
    "\n",
    "1. Define the decision variables $X,A,U$. Remember that the states $x$ are implemented as small steps $dx$ from a reference state $x_0 = [robot.q0,0_{nv} ]$."
   ]
  },
  {
   "cell_type": "code",
   "execution_count": null,
   "id": "197df1d0",
   "metadata": {},
   "outputs": [],
   "source": [
    "%do_not_load tp3/generated/contact_ocp1"
   ]
  },
  {
   "cell_type": "markdown",
   "id": "5de393a0",
   "metadata": {},
   "source": [
    "2. Compute the cost."
   ]
  },
  {
   "cell_type": "code",
   "execution_count": null,
   "id": "7545de11",
   "metadata": {},
   "outputs": [],
   "source": [
    "%do_not_load tp3/generated/contact_ocp2"
   ]
  },
  {
   "cell_type": "markdown",
   "id": "7827eeff",
   "metadata": {},
   "source": [
    "3. Enforce the boundary conditions (on $x_0$, and also on $v_T$ if you like)."
   ]
  },
  {
   "cell_type": "code",
   "execution_count": null,
   "id": "224d7913",
   "metadata": {},
   "outputs": [],
   "source": [
    "%do_not_load tp3/generated/contact_ocp3"
   ]
  },
  {
   "cell_type": "markdown",
   "id": "7c4133df",
   "metadata": {},
   "source": [
    "4. Enforce the integration, (i) by setting $\\tau$, then (ii) computing the acceleration by inverse dynamics and finally (iii) enforcing Euler integration."
   ]
  },
  {
   "cell_type": "code",
   "execution_count": null,
   "id": "787bd74e",
   "metadata": {},
   "outputs": [],
   "source": [
    "%do_not_load tp3/generated/contact_integration"
   ]
  },
  {
   "cell_type": "markdown",
   "id": "36547833",
   "metadata": {},
   "source": [
    "5. Solve the problem"
   ]
  },
  {
   "cell_type": "code",
   "execution_count": null,
   "id": "d01a9d12",
   "metadata": {},
   "outputs": [],
   "source": [
    "%do_not_load tp3/generated/contact_ocp5"
   ]
  },
  {
   "cell_type": "markdown",
   "id": "d1d87a84",
   "metadata": {},
   "source": [
    "You can finally display the result."
   ]
  },
  {
   "cell_type": "code",
   "execution_count": null,
   "id": "39686165",
   "metadata": {},
   "outputs": [],
   "source": [
    "# %load tp3/generated/contact_ocp6\n",
    "print(\"***** Display the resulting trajectory ...\")\n",
    "displayScene(robot.q0, 1)\n",
    "displayTraj([x[:nq] for x in sol_xs], DT)"
   ]
  }
 ],
 "metadata": {
  "kernelspec": {
   "display_name": "Python 3 (ipykernel)",
   "language": "python",
   "name": "python3"
  },
  "language_info": {
   "codemirror_mode": {
    "name": "ipython",
    "version": 3
   },
   "file_extension": ".py",
   "mimetype": "text/x-python",
   "name": "python",
   "nbconvert_exporter": "python",
   "pygments_lexer": "ipython3",
   "version": "3.11.3"
  }
 },
 "nbformat": 4,
 "nbformat_minor": 5
}