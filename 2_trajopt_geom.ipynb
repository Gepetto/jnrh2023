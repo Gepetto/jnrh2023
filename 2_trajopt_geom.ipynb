{
 "cells": [
  {
   "cell_type": "markdown",
   "metadata": {},
   "source": [
    "# First trajectory-optimization problems\n",
    "This notebook drives you through simple trajectory optimization problems, considering only \"kinematic\" version i.e only motion variables (no forces or torques yet). \n",
    "We will first look at a problem where the trajectory is described by a sequence of configurations $[q_0 ... q_T]$, with the only constraints is to have them sufficiently closed to each other.\n",
    "The we will look at a real integration, where each timestep is described by a configuration $q_t$, velocity $v_t$ and acceleration $a_t$ (all in the configuration space. \n",
    "This will allow us to formulate a proper contact constraint, even if only partially described from the motion point of view. \n",
    "The next notebook will drive us to complete version of the trajectory optimization problem, including forces, torques and complete contacts.\n",
    "\n"
   ]
  },
  {
   "cell_type": "code",
   "execution_count": 1,
   "metadata": {},
   "outputs": [
    {
     "name": "stdout",
     "output_type": "stream",
     "text": [
      "NB: as for all the tutorials, a magic command %do_not_load is introduced to hide the solutions to some questions. Change it for %load if you want to see (and execute) the solution.\n"
     ]
    }
   ],
   "source": [
    "import magic_donotload"
   ]
  },
  {
   "cell_type": "markdown",
   "metadata": {},
   "source": [
    "## Set up\n",
    "We will use the following tools:\n",
    "- the ur10 model (loaded by example-robot-data)\n",
    "- pinocchio.casadi for writing the problem and computing its derivatives\n",
    "- the IpOpt solver wrapped in casadi\n",
    "- the meshcat viewer"
   ]
  },
  {
   "cell_type": "code",
   "execution_count": 2,
   "metadata": {},
   "outputs": [],
   "source": [
    "# %load tp2/generated/trajopt_kine_imports\n",
    "import time\n",
    "import unittest\n",
    "import numpy as np\n",
    "import pinocchio as pin\n",
    "import casadi\n",
    "from pinocchio import casadi as cpin\n",
    "import example_robot_data as robex\n",
    "from scipy.optimize import fmin_bfgs\n",
    "from numpy.linalg import norm\n",
    "\n",
    "from utils.meshcat_viewer_wrapper import MeshcatVisualizer\n"
   ]
  },
  {
   "cell_type": "markdown",
   "metadata": {},
   "source": [
    "The notebook is written first for a UR10 robot model configured in fixed basis, then with a Talos pair of legs configured in floating mode. Replace the robot by your own URDF..."
   ]
  },
  {
   "cell_type": "code",
   "execution_count": 3,
   "metadata": {},
   "outputs": [],
   "source": [
    "robot = robex.load('ur10')"
   ]
  },
  {
   "cell_type": "markdown",
   "metadata": {},
   "source": [
    "The robot will start from an arbitrary initial configuration (make the solver life simpler by avoiding the singular 0 configuration) and aim at an object located a placement $M_{target} \\in SE(3)$"
   ]
  },
  {
   "cell_type": "code",
   "execution_count": 4,
   "metadata": {},
   "outputs": [],
   "source": [
    "# %load tp2/generated/trajopt_kine_configurations\n",
    "Mtarget = pin.SE3(pin.utils.rotate('y', 3), np.array([-0.5, 0.1, 0.2]))  # x,y,z\n",
    "q0 = np.array([0, -3.14 / 2, 0, 0, 0, 0])\n",
    "endEffectorFrameName = 'tool0'\n"
   ]
  },
  {
   "cell_type": "markdown",
   "metadata": {},
   "source": [
    "Open a viewer, display the robot and markers to visualize"
   ]
  },
  {
   "cell_type": "code",
   "execution_count": 5,
   "metadata": {},
   "outputs": [
    {
     "name": "stdout",
     "output_type": "stream",
     "text": [
      "Wrapper tries to connect to server <tcp://127.0.0.1:6000>\n",
      "You can open the visualizer by visiting the following URL:\n",
      "http://127.0.0.1:7000/static/\n"
     ]
    }
   ],
   "source": [
    "# %load tp2/generated/trajopt_kine_viewer\n",
    "# Open the viewer\n",
    "viz = MeshcatVisualizer(robot)\n",
    "viz.display(robot.q0)\n",
    "# Add a vizualization for the target\n",
    "boxID = \"world/box\"\n",
    "viz.addBox(boxID, [.05, .1, .2], [1., .2, .2, .5])\n",
    "# Add a vizualisation for the tip of the arm.\n",
    "tipID = \"world/blue\"\n",
    "viz.addBox(tipID, [.08] * 3, [.2, .2, 1., .5])\n",
    "def displayScene(q,dt=1e-1):\n",
    "    '''\n",
    "    Given the robot configuration, display:\n",
    "    - the robot\n",
    "    - a box representing endEffector_ID\n",
    "    - a box representing Mtarget\n",
    "    '''\n",
    "    pin.framesForwardKinematics(model,data,q)\n",
    "    M = data.oMf[endEffector_ID]\n",
    "    viz.applyConfiguration(boxID, Mtarget)\n",
    "    viz.applyConfiguration(tipID, M)\n",
    "    viz.display(q)\n",
    "    time.sleep(dt)\n"
   ]
  },
  {
   "cell_type": "code",
   "execution_count": 6,
   "metadata": {},
   "outputs": [
    {
     "data": {
      "text/html": [
       "\n",
       "            <div style=\"height: 400px; width: 100%; overflow-x: auto; overflow-y: hidden; resize: both\">\n",
       "            <iframe src=\"http://127.0.0.1:7000/static/\" style=\"width: 100%; height: 100%; border: none\"></iframe>\n",
       "            </div>\n",
       "            "
      ],
      "text/plain": [
       "<IPython.core.display.HTML object>"
      ]
     },
     "execution_count": 6,
     "metadata": {},
     "output_type": "execute_result"
    }
   ],
   "source": [
    "viz.viewer.jupyter_cell()"
   ]
  },
  {
   "cell_type": "markdown",
   "metadata": {},
   "source": [
    "We are mostly interested by the robot model. We also need to access some particular frames."
   ]
  },
  {
   "cell_type": "code",
   "execution_count": 7,
   "metadata": {},
   "outputs": [],
   "source": [
    "# %load tp2/generated/trajopt_kine_modeldata\n",
    "robot.q0 = q0\n",
    "\n",
    "# The pinocchio model is what we are really interested by.\n",
    "model = robot.model\n",
    "data = model.createData()\n",
    "endEffector_ID = model.getFrameId(endEffectorFrameName)\n"
   ]
  },
  {
   "cell_type": "markdown",
   "metadata": {},
   "source": [
    "Finally, we will need the same helpers for getting around the Casadi SX/MX issue."
   ]
  },
  {
   "cell_type": "code",
   "execution_count": 8,
   "metadata": {},
   "outputs": [],
   "source": [
    "# %load tp2/generated/trajopt_kine_casadi\n",
    "# --- Casadi helpers\n",
    "cmodel = cpin.Model(model)\n",
    "cdata = cmodel.createData()\n",
    "\n",
    "cq = casadi.SX.sym(\"x\",model.nq,1)\n",
    "cpin.framesForwardKinematics(cmodel,cdata,cq)\n",
    "\n",
    "error3_tool = casadi.Function('etool3', [cq],\n",
    "                              [ cdata.oMf[endEffector_ID].translation - Mtarget.translation ])\n",
    "error6_tool = casadi.Function('etool6', [cq],\n",
    "                             [ cpin.log6(cdata.oMf[endEffector_ID].inverse() * cpin.SE3(Mtarget)).vector ])\n",
    "error_tool = error3_tool\n"
   ]
  },
  {
   "cell_type": "markdown",
   "metadata": {},
   "source": [
    "We are done for the set up, let's noew write the problems we are interested by."
   ]
  },
  {
   "cell_type": "markdown",
   "metadata": {},
   "source": [
    "## Optimizing a sequence of configurations\n",
    "We will first consider a problem where the trajectory is represented by a sequence of configurations.\n",
    "\n",
    "Decide: $Q = [ q_0 ... q_T ] \\in R^{n_q \\times (T+1)}$\n",
    "\n",
    "Minimizing:   $sum_{t=0}^{T-1}  || q_t - q_{t+1} ||^2 + || e(q_T) ||^2$\n",
    "\n",
    "Subject to: $q_0 = robot.q0$\n",
    "\n",
    "The hyperparameters for this problems are:"
   ]
  },
  {
   "cell_type": "code",
   "execution_count": 9,
   "metadata": {},
   "outputs": [],
   "source": [
    "# %load tp2/generated/trajopt_kine_hyper\n",
    "T = 10\n",
    "w_run = .1\n",
    "w_term = 1\n"
   ]
  },
  {
   "cell_type": "markdown",
   "metadata": {},
   "source": [
    "For that, we first define an optimization problem in Casadi where the decision variables are the T+1 configurations."
   ]
  },
  {
   "cell_type": "code",
   "execution_count": 10,
   "metadata": {},
   "outputs": [],
   "source": [
    "# %load tp2/generated/trajopt_kine_casadi_opti\n",
    "opti = casadi.Opti()\n",
    "var_qs = [ opti.variable(model.nq) for t in range(T+1) ]\n",
    "totalcost = 0\n"
   ]
  },
  {
   "cell_type": "markdown",
   "metadata": {},
   "source": [
    "Now implement the running cost (the sum of configuration differences):"
   ]
  },
  {
   "cell_type": "code",
   "execution_count": 11,
   "metadata": {},
   "outputs": [],
   "source": [
    "# %load tp2/generated/trajopt_kine_casadi_runcost\n",
    "for t in range(T):\n",
    "    totalcost += w_run * casadi.sumsqr( var_qs[t] - var_qs[t+1] )\n"
   ]
  },
  {
   "cell_type": "markdown",
   "metadata": {},
   "source": [
    "Now implement the terminal cost. You can use either the 3d cost (position only) or 6d cost (full placement)."
   ]
  },
  {
   "cell_type": "code",
   "execution_count": 12,
   "metadata": {},
   "outputs": [],
   "source": [
    "# %load tp2/generated/trajopt_kine_casadi_termcost\n",
    "totalcost += w_term * casadi.sumsqr( error_tool(var_qs[T]) )\n"
   ]
  },
  {
   "cell_type": "markdown",
   "metadata": {},
   "source": [
    "Now implement the initial constraint."
   ]
  },
  {
   "cell_type": "code",
   "execution_count": 13,
   "metadata": {},
   "outputs": [],
   "source": [
    "# %load tp2/generated/trajopt_kine_casadi_q0\n",
    "opti.subject_to(var_qs[0] == robot.q0)\n"
   ]
  },
  {
   "cell_type": "markdown",
   "metadata": {},
   "source": [
    "And we are good for optimizing the problem:"
   ]
  },
  {
   "cell_type": "code",
   "execution_count": 14,
   "metadata": {},
   "outputs": [
    {
     "name": "stdout",
     "output_type": "stream",
     "text": [
      "\n",
      "******************************************************************************\n",
      "This program contains Ipopt, a library for large-scale nonlinear optimization.\n",
      " Ipopt is released as open source code under the Eclipse Public License (EPL).\n",
      "         For more information visit http://projects.coin-or.org/Ipopt\n",
      "******************************************************************************\n",
      "\n",
      "This is Ipopt version 3.11.9, running with linear solver mumps.\n",
      "NOTE: Other linear solvers might be more efficient (see Ipopt documentation).\n",
      "\n",
      "Number of nonzeros in equality constraint Jacobian...:        6\n",
      "Number of nonzeros in inequality constraint Jacobian.:        0\n",
      "Number of nonzeros in Lagrangian Hessian.............:      136\n",
      "\n",
      "Total number of variables............................:       66\n",
      "                     variables with only lower bounds:        0\n",
      "                variables with lower and upper bounds:        0\n",
      "                     variables with only upper bounds:        0\n",
      "Total number of equality constraints.................:        6\n",
      "Total number of inequality constraints...............:        0\n",
      "        inequality constraints with only lower bounds:        0\n",
      "   inequality constraints with lower and upper bounds:        0\n",
      "        inequality constraints with only upper bounds:        0\n",
      "\n",
      "iter    objective    inf_pr   inf_du lg(mu)  ||d||  lg(rg) alpha_du alpha_pr  ls\n",
      "   0  2.8967411e+00 1.57e+00 4.93e-01  -1.0 0.00e+00    -  0.00e+00 0.00e+00   0\n",
      "   1  3.1369722e+00 1.56e-61 1.57e+02  -1.0 1.57e+00   2.0 1.00e+00 1.00e+00h  1\n",
      "   2  3.1179459e+00 1.56e-61 5.11e-01  -1.0 1.53e-02   1.5 1.00e+00 1.00e+00f  1\n",
      "   3  3.0582236e+00 5.35e-51 5.54e-01  -1.7 5.00e-02   1.0 1.00e+00 1.00e+00f  1\n",
      "   4  2.8413149e+00 1.40e-45 7.05e-01  -1.7 1.95e-01   0.6 1.00e+00 1.00e+00f  1\n",
      "   5  2.7527147e+00 1.75e-46 7.54e-01  -1.7 7.66e-02   1.0 1.00e+00 1.00e+00f  1\n",
      "   6  2.4288049e+00 2.24e-44 8.86e-01  -1.7 2.82e-01   0.5 1.00e+00 1.00e+00f  1\n",
      "   7  2.3040215e+00 1.58e-45 9.13e-01  -1.7 1.05e-01   0.9 1.00e+00 1.00e+00f  1\n",
      "   8  1.9109295e+00 1.58e-45 9.23e-01  -1.7 3.38e-01   0.5 1.00e+00 1.00e+00f  1\n",
      "   9  1.0591961e+00 3.67e-40 3.44e-01  -1.7 9.87e-01  -0.0 1.00e+00 1.00e+00f  1\n",
      "iter    objective    inf_pr   inf_du lg(mu)  ||d||  lg(rg) alpha_du alpha_pr  ls\n",
      "  10  6.5873299e-01 2.35e-38 1.68e-01  -1.7 8.82e-01  -0.5 1.00e+00 1.00e+00f  1\n",
      "  11  3.6928739e-01 1.93e-34 7.50e-02  -2.5 8.16e-01  -1.0 1.00e+00 1.00e+00f  1\n",
      "  12  1.0448864e-01 1.93e-34 9.01e-03  -2.5 1.27e+00    -  1.00e+00 1.00e+00f  1\n",
      "  13  1.0392992e-01 3.85e-34 3.11e-03  -3.8 1.33e-01    -  1.00e+00 1.00e+00f  1\n",
      "  14  1.0392226e-01 4.81e-35 4.22e-06  -3.8 4.88e-03    -  1.00e+00 1.00e+00f  1\n",
      "  15  1.0392226e-01 7.52e-37 1.25e-09  -8.6 1.02e-04    -  1.00e+00 1.00e+00f  1\n",
      "\n",
      "Number of Iterations....: 15\n",
      "\n",
      "                                   (scaled)                 (unscaled)\n",
      "Objective...............:   1.0392225919956569e-01    1.0392225919956569e-01\n",
      "Dual infeasibility......:   1.2536782445504713e-09    1.2536782445504713e-09\n",
      "Constraint violation....:   7.5194904114033358e-37    7.5194904114033358e-37\n",
      "Complementarity.........:   0.0000000000000000e+00    0.0000000000000000e+00\n",
      "Overall NLP error.......:   1.2536782445504713e-09    1.2536782445504713e-09\n",
      "\n",
      "\n",
      "Number of objective function evaluations             = 16\n",
      "Number of objective gradient evaluations             = 16\n",
      "Number of equality constraint evaluations            = 16\n",
      "Number of inequality constraint evaluations          = 0\n",
      "Number of equality constraint Jacobian evaluations   = 16\n",
      "Number of inequality constraint Jacobian evaluations = 0\n",
      "Number of Lagrangian Hessian evaluations             = 15\n",
      "Total CPU secs in IPOPT (w/o function evaluations)   =      0.066\n",
      "Total CPU secs in NLP function evaluations           =      0.002\n",
      "\n",
      "EXIT: Optimal Solution Found.\n",
      "      solver  :   t_proc      (avg)   t_wall      (avg)    n_eval\n",
      "callback_fun  |  61.10ms (  3.82ms)   1.70 s (106.17ms)        16\n",
      "       nlp_f  | 162.00us ( 10.13us) 164.24us ( 10.27us)        16\n",
      "       nlp_g  |  73.00us (  4.56us)  66.81us (  4.18us)        16\n",
      "  nlp_grad_f  | 251.00us ( 14.76us) 250.47us ( 14.73us)        17\n",
      "  nlp_hess_l  |   1.19ms ( 79.53us)   1.20ms ( 79.76us)        15\n",
      "   nlp_jac_g  |  51.00us (  3.00us)  49.51us (  2.91us)        17\n",
      "       total  |  83.78ms ( 83.78ms)   1.72 s (  1.72 s)         1\n"
     ]
    }
   ],
   "source": [
    "# %load tp2/generated/trajopt_kine_solve\n",
    "opti.minimize(totalcost)\n",
    "opti.solver(\"ipopt\") # set numerical backend\n",
    "opti.callback(lambda i: displayScene(opti.debug.value(var_qs[-1])))\n",
    "\n",
    "# Caution: in case the solver does not converge, we are picking the candidate values\n",
    "# at the last iteration in opti.debug, and they are NO guarantee of what they mean.\n",
    "try:\n",
    "    sol = opti.solve_limited()\n",
    "    sol_qs = [ opti.value(var_q) for var_q in var_qs ]\n",
    "except:\n",
    "    print('ERROR in convergence, plotting debug info.')\n",
    "    sol_qs = [ opti.debug.value(var_q) for var_q in var_qs ]\n"
   ]
  },
  {
   "cell_type": "markdown",
   "metadata": {},
   "source": [
    "Here the progress of the solver is shown by displaying the terminal configuration in the viewer at each new step. We can also visualize the full trajectory."
   ]
  },
  {
   "cell_type": "code",
   "execution_count": 15,
   "metadata": {},
   "outputs": [],
   "source": [
    "# %load tp2/generated/trajopt_kine_disptraj\n",
    "def displayTraj(qs,dt=1e-2):\n",
    "    for q in qs[1:]:\n",
    "        displayScene(q,dt=dt)\n"
   ]
  },
  {
   "cell_type": "code",
   "execution_count": 16,
   "metadata": {},
   "outputs": [],
   "source": [
    "displayTraj(sol_qs)"
   ]
  }
 ],
 "metadata": {
  "kernelspec": {
   "display_name": "Python 3 (ipykernel)",
   "language": "python",
   "name": "python3"
  },
  "language_info": {
   "codemirror_mode": {
    "name": "ipython",
    "version": 3
   },
   "file_extension": ".py",
   "mimetype": "text/x-python",
   "name": "python",
   "nbconvert_exporter": "python",
   "pygments_lexer": "ipython3",
   "version": "3.8.10"
  }
 },
 "nbformat": 4,
 "nbformat_minor": 2
}