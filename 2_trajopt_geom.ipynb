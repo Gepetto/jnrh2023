{
 "cells": [
  {
   "cell_type": "markdown",
   "metadata": {},
   "source": [
    "# First trajectory-optimization problems\n",
    "This notebook drives you through simple trajectory optimization problems, considering only \"kinematic\" version i.e only motion variables (no forces or torques yet). \n",
    "We will first look at a problem where the trajectory is described by a sequence of configurations $[q_0 ... q_T]$, with the only constraints is to have them sufficiently closed to each other.\n",
    "The we will look at a real integration, where each timestep is described by a configuration $q_t$, velocity $v_t$ and acceleration $a_t$ (all in the configuration space. \n",
    "This will allow us to formulate a proper contact constraint, even if only partially described from the motion point of view. \n",
    "The next notebook will drive us to complete version of the trajectory optimization problem, including forces, torques and complete contacts.\n",
    "\n"
   ]
  },
  {
   "cell_type": "code",
   "execution_count": null,
   "metadata": {},
   "outputs": [],
   "source": [
    "import magic_donotload"
   ]
  },
  {
   "cell_type": "markdown",
   "metadata": {},
   "source": [
    "## Set up\n",
    "We will use the following tools:\n",
    "- the ur10 model (loaded by example-robot-data)\n",
    "- pinocchio.casadi for writing the problem and computing its derivatives\n",
    "- the IpOpt solver wrapped in casadi\n",
    "- the meshcat viewer"
   ]
  },
  {
   "cell_type": "code",
   "execution_count": null,
   "metadata": {},
   "outputs": [],
   "source": [
    "# %load tp2/generated/trajopt_kine_imports\n",
    "import time\n",
    "import unittest\n",
    "import numpy as np\n",
    "import pinocchio as pin\n",
    "import casadi\n",
    "from pinocchio import casadi as cpin\n",
    "import example_robot_data as robex\n",
    "from scipy.optimize import fmin_bfgs\n",
    "from numpy.linalg import norm\n",
    "\n",
    "from utils.meshcat_viewer_wrapper import MeshcatVisualizer\n"
   ]
  },
  {
   "cell_type": "markdown",
   "metadata": {},
   "source": [
    "The notebook is written first for a UR10 robot model configured in fixed basis, then with a Talos pair of legs configured in floating mode. Replace the robot by your own URDF..."
   ]
  },
  {
   "cell_type": "code",
   "execution_count": null,
   "metadata": {},
   "outputs": [],
   "source": [
    "robot = robex.load('ur10')"
   ]
  },
  {
   "cell_type": "markdown",
   "metadata": {},
   "source": [
    "The robot will start from an arbitrary initial configuration (make the solver life simpler by avoiding the singular 0 configuration) and aim at an object located a placement $M_{target} \\in SE(3)$"
   ]
  },
  {
   "cell_type": "code",
   "execution_count": null,
   "metadata": {},
   "outputs": [],
   "source": [
    "# %load tp2/generated/trajopt_kine_configurations\n",
    "Mtarget = pin.SE3(pin.utils.rotate('y', 3), np.array([-0.5, 0.1, 0.2]))  # x,y,z\n",
    "q0 = np.array([0, -3.14 / 2, 0, 0, 0, 0])\n",
    "endEffectorFrameName = 'tool0'\n"
   ]
  },
  {
   "cell_type": "markdown",
   "metadata": {},
   "source": [
    "Open a viewer, display the robot and markers to visualize"
   ]
  },
  {
   "cell_type": "code",
   "execution_count": null,
   "metadata": {},
   "outputs": [],
   "source": [
    "# %load tp2/generated/trajopt_kine_viewer\n",
    "# Open the viewer\n",
    "viz = MeshcatVisualizer(robot)\n",
    "viz.display(robot.q0)\n",
    "# Add a vizualization for the target\n",
    "boxID = \"world/box\"\n",
    "viz.addBox(boxID, [.05, .1, .2], [1., .2, .2, .5])\n",
    "# Add a vizualisation for the tip of the arm.\n",
    "tipID = \"world/blue\"\n",
    "viz.addBox(tipID, [.08] * 3, [.2, .2, 1., .5])\n",
    "def displayScene(q,dt=1e-1):\n",
    "    '''\n",
    "    Given the robot configuration, display:\n",
    "    - the robot\n",
    "    - a box representing endEffector_ID\n",
    "    - a box representing Mtarget\n",
    "    '''\n",
    "    pin.framesForwardKinematics(model,data,q)\n",
    "    M = data.oMf[endEffector_ID]\n",
    "    viz.applyConfiguration(boxID, Mtarget)\n",
    "    viz.applyConfiguration(tipID, M)\n",
    "    viz.display(q)\n",
    "    time.sleep(dt)\n"
   ]
  },
  {
   "cell_type": "code",
   "execution_count": null,
   "metadata": {},
   "outputs": [],
   "source": [
    "viz.viewer.jupyter_cell()"
   ]
  },
  {
   "cell_type": "markdown",
   "metadata": {},
   "source": [
    "We are mostly interested by the robot model. We also need to access some particular frames."
   ]
  },
  {
   "cell_type": "code",
   "execution_count": null,
   "metadata": {},
   "outputs": [],
   "source": [
    "# %load tp2/generated/trajopt_kine_modeldata\n",
    "robot.q0 = q0\n",
    "\n",
    "# The pinocchio model is what we are really interested by.\n",
    "model = robot.model\n",
    "data = model.createData()\n",
    "endEffector_ID = model.getFrameId(endEffectorFrameName)\n"
   ]
  },
  {
   "cell_type": "markdown",
   "metadata": {},
   "source": [
    "Finally, we will need the same helpers for getting around the Casadi SX/MX issue."
   ]
  },
  {
   "cell_type": "code",
   "execution_count": null,
   "metadata": {},
   "outputs": [],
   "source": [
    "# %load tp2/generated/trajopt_kine_casadi\n",
    "# --- Casadi helpers\n",
    "cmodel = cpin.Model(model)\n",
    "cdata = cmodel.createData()\n",
    "\n",
    "cq = casadi.SX.sym(\"x\",model.nq,1)\n",
    "cpin.framesForwardKinematics(cmodel,cdata,cq)\n",
    "\n",
    "error3_tool = casadi.Function('etool3', [cq],\n",
    "                              [ cdata.oMf[endEffector_ID].translation - Mtarget.translation ])\n",
    "error6_tool = casadi.Function('etool6', [cq],\n",
    "                             [ cpin.log6(cdata.oMf[endEffector_ID].inverse() * cpin.SE3(Mtarget)).vector ])\n",
    "error_tool = error3_tool\n"
   ]
  },
  {
   "cell_type": "markdown",
   "metadata": {},
   "source": [
    "We are done for the set up, let's noew write the problems we are interested by."
   ]
  },
  {
   "cell_type": "markdown",
   "metadata": {},
   "source": [
    "## Optimizing a sequence of configurations\n",
    "We will first consider a problem where the trajectory is represented by a sequence of configurations.\n",
    "\n",
    "Decide: $Q = [ q_0 ... q_T ] \\in R^{n_q \\times (T+1)}$\n",
    "\n",
    "Minimizing:   $sum_{t=0}^{T-1}  || q_t - q_{t+1} ||^2 + || e(q_T) ||^2$\n",
    "\n",
    "Subject to: $q_0 = robot.q0$\n",
    "\n",
    "The hyperparameters for this problems are:"
   ]
  },
  {
   "cell_type": "code",
   "execution_count": null,
   "metadata": {},
   "outputs": [],
   "source": [
    "# %load tp2/generated/trajopt_kine_hyper\n",
    "T = 10\n",
    "w_run = .1\n",
    "w_term = 1\n"
   ]
  },
  {
   "cell_type": "markdown",
   "metadata": {},
   "source": [
    "For that, we first define an optimization problem in Casadi where the decision variables are the T+1 configurations."
   ]
  },
  {
   "cell_type": "code",
   "execution_count": null,
   "metadata": {},
   "outputs": [],
   "source": [
    "# %load tp2/generated/trajopt_kine_casadi_opti\n",
    "opti = casadi.Opti()\n",
    "var_qs = [ opti.variable(model.nq) for t in range(T+1) ]\n",
    "totalcost = 0\n"
   ]
  },
  {
   "cell_type": "markdown",
   "metadata": {},
   "source": [
    "Now implement the running cost (the sum of configuration differences):"
   ]
  },
  {
   "cell_type": "code",
   "execution_count": null,
   "metadata": {},
   "outputs": [],
   "source": [
    "# %load tp2/generated/trajopt_kine_casadi_runcost\n",
    "for t in range(T):\n",
    "    totalcost += w_run * casadi.sumsqr( var_qs[t] - var_qs[t+1] )\n"
   ]
  },
  {
   "cell_type": "markdown",
   "metadata": {},
   "source": [
    "Now implement the terminal cost. You can use either the 3d cost (position only) or 6d cost (full placement)."
   ]
  },
  {
   "cell_type": "code",
   "execution_count": null,
   "metadata": {},
   "outputs": [],
   "source": [
    "# %load tp2/generated/trajopt_kine_casadi_termcost\n",
    "totalcost += w_term * casadi.sumsqr( error_tool(var_qs[T]) )\n"
   ]
  },
  {
   "cell_type": "markdown",
   "metadata": {},
   "source": [
    "Now implement the initial constraint."
   ]
  },
  {
   "cell_type": "code",
   "execution_count": null,
   "metadata": {},
   "outputs": [],
   "source": [
    "# %load tp2/generated/trajopt_kine_casadi_q0\n",
    "opti.subject_to(var_qs[0] == robot.q0)\n"
   ]
  },
  {
   "cell_type": "markdown",
   "metadata": {},
   "source": [
    "And we are good for optimizing the problem:"
   ]
  },
  {
   "cell_type": "code",
   "execution_count": null,
   "metadata": {},
   "outputs": [],
   "source": [
    "# %load tp2/generated/trajopt_kine_solve\n",
    "opti.minimize(totalcost)\n",
    "opti.solver(\"ipopt\") # set numerical backend\n",
    "opti.callback(lambda i: displayScene(opti.debug.value(var_qs[-1])))\n",
    "\n",
    "# Caution: in case the solver does not converge, we are picking the candidate values\n",
    "# at the last iteration in opti.debug, and they are NO guarantee of what they mean.\n",
    "try:\n",
    "    sol = opti.solve_limited()\n",
    "    sol_qs = [ opti.value(var_q) for var_q in var_qs ]\n",
    "except:\n",
    "    print('ERROR in convergence, plotting debug info.')\n",
    "    sol_qs = [ opti.debug.value(var_q) for var_q in var_qs ]\n"
   ]
  },
  {
   "cell_type": "markdown",
   "metadata": {},
   "source": [
    "Here the progress of the solver is shown by displaying the terminal configuration in the viewer at each new step. We can also visualize the full trajectory."
   ]
  },
  {
   "cell_type": "code",
   "execution_count": null,
   "metadata": {},
   "outputs": [],
   "source": [
    "# %load tp2/generated/trajopt_kine_disptraj\n",
    "def displayTraj(qs,dt=1e-2):\n",
    "    for q in qs[1:]:\n",
    "        displayScene(q,dt=dt)\n"
   ]
  },
  {
   "cell_type": "code",
   "execution_count": null,
   "metadata": {},
   "outputs": [],
   "source": [
    "displayTraj(sol_qs)"
   ]
  }
 ],
 "metadata": {
  "kernelspec": {
   "display_name": "Python 3 (ipykernel)",
   "language": "python",
   "name": "python3"
  },
  "language_info": {
   "codemirror_mode": {
    "name": "ipython",
    "version": 3
   },
   "file_extension": ".py",
   "mimetype": "text/x-python",
   "name": "python",
   "nbconvert_exporter": "python",
   "pygments_lexer": "ipython3",
   "version": "3.8.10"
  }
 },
 "nbformat": 4,
 "nbformat_minor": 2
}