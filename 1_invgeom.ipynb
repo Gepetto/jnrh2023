{
 "cells": [
  {
   "cell_type": "markdown",
   "metadata": {},
   "source": [
    "# Inverse geometry\n",
    "\n",
    "Inverse geometry is the problem of computing a configuration $q$ of a robot model that satisfies a set of 'tasks', which we formalize as error functions $e(q)$ that are zero when the task is achieved.\n",
    "\n",
    "- $q \\in \\mathcal{C}$: configuration of the robot.\n",
    "- $e_i(q) \\in \\mathbb{R}$: error function for task $i$. In this tutorial our error function is real valued.\n",
    "\n",
    "Typical tasks for limbed robots include putting a foot/end-effector on a surface, moving the center of mass (CoM) to a target location, etc. For example, an error function for a foot position task could be:\n",
    "\n",
    "$$\n",
    "e(q) = \\|p_\\mathrm{foot}^* - p_\\mathrm{foot}(q)\\|\n",
    "$$\n",
    "\n",
    "In this tutorial, we will define a task function $e(q)$ for the end-effector pose of a manipulator and solve the inverse geometry problem\n",
    "\n",
    "$$\n",
    "\\underset{q}{\\mathrm{minimize}}\\ e(q)\n",
    "$$\n",
    "\n",
    "using an off-the-shelf nonlinear optimizer that evaluates gradients by finite differences (slower), then a more efficient formulation using CasADi (faster)."
   ]
  },
  {
   "cell_type": "markdown",
   "metadata": {},
   "source": [
    "## Before we start...\n",
    "\n",
    "(The following line was used to generate the notebook, you can skip it:)"
   ]
  },
  {
   "cell_type": "code",
   "execution_count": 27,
   "metadata": {},
   "outputs": [],
   "source": [
    "import magic_donotload"
   ]
  },
  {
   "cell_type": "markdown",
   "metadata": {},
   "source": [
    "Let's import everything we will need in this tutorial:"
   ]
  },
  {
   "cell_type": "code",
   "execution_count": 28,
   "metadata": {},
   "outputs": [],
   "source": [
    "# %load tp1/generated/invgeom_imports\n",
    "import time\n",
    "import unittest\n",
    "\n",
    "import example_robot_data as robex\n",
    "import meshcat_shapes\n",
    "import numpy as np\n",
    "import pinocchio as pin\n",
    "from numpy.linalg import norm\n",
    "from scipy.optimize import fmin_bfgs\n",
    "\n"
   ]
  },
  {
   "cell_type": "markdown",
   "metadata": {},
   "source": [
    "## Set up\n",
    "\n",
    "Let us start by loading the UR5 robot model from `example-robot-data` and define its neutral configuration as follows:"
   ]
  },
  {
   "cell_type": "code",
   "execution_count": 29,
   "metadata": {},
   "outputs": [],
   "source": [
    "# %load tp1/generated/invgeom_robot\n",
    "robot = robex.load(\"ur5\")\n",
    "robot.q0 = np.array([0, -np.pi / 2, 0, 0, 0, 0])\n",
    "model = robot.model\n",
    "data = robot.data\n"
   ]
  },
  {
   "cell_type": "markdown",
   "metadata": {},
   "source": [
    "We will also use the MeshCat visualizer to watch the optimization unfold. Let's set up a visualizer for our robot model:"
   ]
  },
  {
   "cell_type": "code",
   "execution_count": 30,
   "metadata": {},
   "outputs": [
    {
     "name": "stdout",
     "output_type": "stream",
     "text": [
      "You can open the visualizer by visiting the following URL:\n",
      "http://127.0.0.1:7003/static/\n"
     ]
    }
   ],
   "source": [
    "# %load tp1/generated/invgeom_visualizer\n",
    "viz = pin.visualize.MeshcatVisualizer(\n",
    "    robot.model, robot.collision_model, robot.visual_model\n",
    ")\n",
    "robot.setVisualizer(viz, init=False)\n",
    "robot.setVisualizer(viz, init=False)\n",
    "viz.initViewer(open=False)\n",
    "viz.loadViewerModel()\n",
    "viz.display(robot.q0)\n"
   ]
  },
  {
   "cell_type": "markdown",
   "metadata": {},
   "source": [
    "## Part 1: BFGS with finite difference\n",
    "\n",
    "In this first part, we will define an inverse geometry problem for the UR5 and use the BFGS optimizer from [`scipy.optimize.fmin_bfgs`](https://docs.scipy.org/doc/scipy/reference/generated/scipy.optimize.fmin_bfgs.html#scipy-optimize-fmin-bfgs) to solve it.\n",
    "\n",
    "### Task target\n",
    "\n",
    "Our task will be to move the end effector *frame* of the UR5 to a desired pose (pose := position + orientation). For this purpose, we define:\n",
    "\n",
    "- The name of the corresponding frame, which is ``\"tool0\"`` for the UR5.\n",
    "- The target pose of this frame, which we define by an affine transform ${}_{world} M_{target} \\in SE(3)$ (also known as a \"placement\").\n",
    "\n",
    "The robot will start from an arbitrary initial configuration (hint: to make the solver's life easier, avoid the singular $[0\\ 0\\ \\ldots\\ 0]$ configuration) $q_0$."
   ]
  },
  {
   "cell_type": "code",
   "execution_count": 31,
   "metadata": {},
   "outputs": [],
   "source": [
    "# %load tp1/generated/invgeom_task_params\n",
    "tool_id = model.getFrameId(\"tool0\")\n",
    "\n",
    "transform_target_to_world = pin.SE3(\n",
    "    pin.utils.rotate(\"x\", np.pi / 4),\n",
    "    np.array([-0.5, 0.1, 0.2]),\n",
    ")\n"
   ]
  },
  {
   "cell_type": "markdown",
   "metadata": {},
   "source": [
    "### Task error\n",
    "\n",
    "For a given robot configuration $q$, the end effector will be located at ${}_{world} M_{tool}(q)$, which is a function of $q$ we can compute with Pinocchio's forward kinematics function. The goal of our task will be to make ${}_{world} M_{tool}(q)$ coincide with ${}_{world} M_{target}$, which we can define mathematically as: minimize the (Lie-group) difference ${}_{world} M_{target} \\ominus {}_{world} M_{tool}(q)$, or equivalently:\n",
    "\n",
    "$$\n",
    "\\underset{q}{\\mathrm{minimize}} \\ e(q) := \\| {}_{world} M_{target} \\ominus {}_{world} M_{tool}(q) \\|\n",
    "$$\n",
    "\n",
    "Remember the definition of the $\\ominus$ (left) Lie-group difference? No? Let's write it in Python anyway!"
   ]
  },
  {
   "cell_type": "code",
   "execution_count": 32,
   "metadata": {},
   "outputs": [],
   "source": [
    "# %load tp1/generated/invgeom_error_function\n",
    "\n",
    "def error(q: np.ndarray) -> float:\n",
    "    \"\"\"Function that the final configuration should minimize.\"\"\"\n",
    "    pin.framesForwardKinematics(model, data, q)\n",
    "    transform_tool_to_world = data.oMf[tool_id]\n",
    "    return norm(\n",
    "        pin.log(\n",
    "            transform_tool_to_world.inverse() * transform_target_to_world\n",
    "        ).vector\n",
    "    )\n",
    "\n",
    "\n"
   ]
  },
  {
   "cell_type": "markdown",
   "metadata": {},
   "source": [
    "### Sidetrack: visualization\n",
    "\n"
   ]
  },
  {
   "cell_type": "code",
   "execution_count": 33,
   "metadata": {},
   "outputs": [],
   "source": [
    "# %load tp1/generated/invgeom_visualizer_callback\n",
    "viewer = viz.viewer\n",
    "meshcat_shapes.frame(viewer[\"target\"], opacity=1.0)\n",
    "meshcat_shapes.frame(viewer[\"current\"], opacity=0.5)\n",
    "\n",
    "\n",
    "def callback(q: np.ndarray):\n",
    "    pin.framesForwardKinematics(model, data, q)\n",
    "    transform_frame_to_world = data.oMf[tool_id]\n",
    "    viewer[\"target\"].set_transform(transform_target_to_world.np)\n",
    "    viewer[\"current\"].set_transform(transform_frame_to_world.np)\n",
    "    viz.display(q)\n",
    "    time.sleep(1e-1)\n",
    "\n",
    "\n"
   ]
  },
  {
   "cell_type": "markdown",
   "metadata": {},
   "source": [
    "We are now ready to optimize for real!"
   ]
  },
  {
   "cell_type": "markdown",
   "metadata": {},
   "source": [
    "### BFGS optimization"
   ]
  },
  {
   "cell_type": "code",
   "execution_count": 35,
   "metadata": {},
   "outputs": [
    {
     "name": "stdout",
     "output_type": "stream",
     "text": [
      "Warning: Desired error not necessarily achieved due to precision loss.\n",
      "         Current function value: 0.000000\n",
      "         Iterations: 70\n",
      "         Function evaluations: 964\n",
      "         Gradient evaluations: 136\n",
      "The robot finally reached effector placement at\n",
      "   R =\n",
      "           1 -1.35995e-08  -4.3225e-09\n",
      "-1.26728e-08    -0.707107    -0.707107\n",
      " 6.55981e-09     0.707107    -0.707107\n",
      "  p =     -0.5 0.158195 0.141805\n",
      "\n"
     ]
    }
   ],
   "source": [
    "# %load tp1/generated/invgeom_fmin_bfgs\n",
    "qguess = np.array([0.12, -2.2, -1.45, 1.82, -0.95, 0.17])\n",
    "qopt = fmin_bfgs(error, qguess, callback=callback)\n",
    "\n",
    "print(\n",
    "    \"The robot finally reached effector placement at\\n\",\n",
    "    robot.placement(qopt, 6),\n",
    ")\n"
   ]
  },
  {
   "cell_type": "markdown",
   "metadata": {},
   "source": [
    "If everything went well, our robot converged to a configuration $q$ that achieves the desired end effector placement, *i.e.* $e(q) \\approx 0 \\Leftrightarrow {}_{world} M_{target} \\approx {{}_{world} M_{tool}}(q)$."
   ]
  },
  {
   "cell_type": "markdown",
   "metadata": {},
   "source": [
    "## Part 2: IPOPT with automatic differentiation"
   ]
  },
  {
   "cell_type": "markdown",
   "metadata": {},
   "source": [
    "We wil now define our problem in [CasADi](https://web.casadi.org), a framework that allows us to formulate problems as computation graphs from which it can compute derivatives (notably first-order derivatives, *a.k.a.* gradients, and second-order derivatives, *a.k.a.* Hessians) automatically. This feature is called *automatic differentiation*."
   ]
  },
  {
   "cell_type": "code",
   "execution_count": 37,
   "metadata": {},
   "outputs": [],
   "source": [
    "# %load tp1/generated/invgeom_casadi_imports\n",
    "import casadi\n",
    "from pinocchio import casadi as cpin\n",
    "\n"
   ]
  },
  {
   "cell_type": "markdown",
   "metadata": {},
   "source": [
    "Pinocchio, in the version 3 we are using in today's tutorial, provides a `pinocchio.casadi` interface to represent configurations (such as $q \\in \\mathcal{C}$ or $M \\in SE(3)$) in CasADi computation graphs, and differentiate them appropriately. (This is not as trivial as representing everything as matrices and vectors in $\\mathbb{R}^n$ and taking their usual derivatives; here Pinocchio allows us to take derivatives over manifolds properly, without worrying about what happens below the surface.) To be able to do that, we first need to redefine our model as a CasADi one:"
   ]
  },
  {
   "cell_type": "code",
   "execution_count": null,
   "metadata": {},
   "outputs": [],
   "source": [
    "# %load tp1/generated/invgeom_casadi_model\n",
    "cmodel = cpin.Model(model)\n",
    "cdata = cmodel.createData()\n"
   ]
  },
  {
   "cell_type": "markdown",
   "metadata": {},
   "source": []
  },
  {
   "cell_type": "code",
   "execution_count": null,
   "metadata": {},
   "outputs": [],
   "source": []
  },
  {
   "cell_type": "markdown",
   "metadata": {},
   "source": []
  },
  {
   "cell_type": "code",
   "execution_count": null,
   "metadata": {},
   "outputs": [],
   "source": []
  },
  {
   "cell_type": "markdown",
   "metadata": {},
   "source": []
  },
  {
   "cell_type": "code",
   "execution_count": null,
   "metadata": {},
   "outputs": [],
   "source": []
  },
  {
   "cell_type": "markdown",
   "metadata": {},
   "source": []
  }
 ],
 "metadata": {
  "kernelspec": {
   "display_name": "Python 3 (ipykernel)",
   "language": "python",
   "name": "python3"
  },
  "language_info": {
   "codemirror_mode": {
    "name": "ipython",
    "version": 3
   },
   "file_extension": ".py",
   "mimetype": "text/x-python",
   "name": "python",
   "nbconvert_exporter": "python",
   "pygments_lexer": "ipython3",
   "version": "3.8.17"
  }
 },
 "nbformat": 4,
 "nbformat_minor": 2
}
